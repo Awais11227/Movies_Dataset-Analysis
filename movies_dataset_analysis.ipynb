{
 "cells": [
  {
   "cell_type": "markdown",
   "id": "9cde321c",
   "metadata": {},
   "source": [
    "#  Movies Dataset Analysis: Revenues, IMDb Ratings, and Key Insights  \n",
    "### A Complete Exploratory Study by Awais Manzoor  \n",
    "\n"
   ]
  },
  {
   "cell_type": "markdown",
   "id": "53bfc130",
   "metadata": {},
   "source": [
    "- This notebook explores the **Movies Dataset**, focusing on IMDb scores, popular genres, and key insights.  \n",
    "- The goal is to practice data cleaning, exploratory analysis, and visualization while uncovering movie trends.  "
   ]
  },
  {
   "cell_type": "markdown",
   "id": "c62f474e",
   "metadata": {},
   "source": [
    "# **_Importing Libraries_**   "
   ]
  },
  {
   "cell_type": "code",
   "execution_count": 22,
   "id": "1c689b0f",
   "metadata": {},
   "outputs": [],
   "source": [
    "import pandas as pd \n",
    "import numpy as np\n",
    "import matplotlib.pyplot as plt\n",
    "import seaborn as sns"
   ]
  },
  {
   "cell_type": "markdown",
   "id": "703d0487",
   "metadata": {},
   "source": [
    "#  _Load Dataset_ "
   ]
  },
  {
   "cell_type": "code",
   "execution_count": 23,
   "id": "8d42e81e",
   "metadata": {},
   "outputs": [
    {
     "data": {
      "application/vnd.microsoft.datawrangler.viewer.v0+json": {
       "columns": [
        {
         "name": "index",
         "rawType": "int64",
         "type": "integer"
        },
        {
         "name": "color",
         "rawType": "object",
         "type": "unknown"
        },
        {
         "name": "director_name",
         "rawType": "object",
         "type": "string"
        },
        {
         "name": "num_critic_for_reviews",
         "rawType": "float64",
         "type": "float"
        },
        {
         "name": "duration",
         "rawType": "float64",
         "type": "float"
        },
        {
         "name": "director_facebook_likes",
         "rawType": "float64",
         "type": "float"
        },
        {
         "name": "actor_3_facebook_likes",
         "rawType": "float64",
         "type": "float"
        },
        {
         "name": "actor_2_name",
         "rawType": "object",
         "type": "string"
        },
        {
         "name": "actor_1_facebook_likes",
         "rawType": "float64",
         "type": "float"
        },
        {
         "name": "gross",
         "rawType": "float64",
         "type": "float"
        },
        {
         "name": "genres",
         "rawType": "object",
         "type": "string"
        },
        {
         "name": "actor_1_name",
         "rawType": "object",
         "type": "string"
        },
        {
         "name": "movie_title",
         "rawType": "object",
         "type": "string"
        },
        {
         "name": "num_voted_users",
         "rawType": "int64",
         "type": "integer"
        },
        {
         "name": "cast_total_facebook_likes",
         "rawType": "int64",
         "type": "integer"
        },
        {
         "name": "actor_3_name",
         "rawType": "object",
         "type": "unknown"
        },
        {
         "name": "facenumber_in_poster",
         "rawType": "float64",
         "type": "float"
        },
        {
         "name": "plot_keywords",
         "rawType": "object",
         "type": "unknown"
        },
        {
         "name": "movie_imdb_link",
         "rawType": "object",
         "type": "string"
        },
        {
         "name": "num_user_for_reviews",
         "rawType": "float64",
         "type": "float"
        },
        {
         "name": "language",
         "rawType": "object",
         "type": "unknown"
        },
        {
         "name": "country",
         "rawType": "object",
         "type": "unknown"
        },
        {
         "name": "content_rating",
         "rawType": "object",
         "type": "unknown"
        },
        {
         "name": "budget",
         "rawType": "float64",
         "type": "float"
        },
        {
         "name": "title_year",
         "rawType": "float64",
         "type": "float"
        },
        {
         "name": "actor_2_facebook_likes",
         "rawType": "float64",
         "type": "float"
        },
        {
         "name": "imdb_score",
         "rawType": "float64",
         "type": "float"
        },
        {
         "name": "aspect_ratio",
         "rawType": "float64",
         "type": "float"
        },
        {
         "name": "movie_facebook_likes",
         "rawType": "int64",
         "type": "integer"
        }
       ],
       "ref": "84630d68-4a0a-4704-bcb9-20f4e3fdd385",
       "rows": [
        [
         "0",
         "Color",
         "James Cameron",
         "723.0",
         "178.0",
         "0.0",
         "855.0",
         "Joel David Moore",
         "1000.0",
         "760505847.0",
         "Action|Adventure|Fantasy|Sci-Fi",
         "CCH Pounder",
         "Avatar",
         "886204",
         "4834",
         "Wes Studi",
         "0.0",
         "avatar|future|marine|native|paraplegic",
         "http://www.imdb.com/title/tt0499549/?ref_=fn_tt_tt_1",
         "3054.0",
         "English",
         "USA",
         "PG-13",
         "237000000.0",
         "2009.0",
         "936.0",
         "7.9",
         "1.78",
         "33000"
        ],
        [
         "1",
         "Color",
         "Gore Verbinski",
         "302.0",
         "169.0",
         "563.0",
         "1000.0",
         "Orlando Bloom",
         "40000.0",
         "309404152.0",
         "Action|Adventure|Fantasy",
         "Johnny Depp",
         "Pirates of the Caribbean: At World's End",
         "471220",
         "48350",
         "Jack Davenport",
         "0.0",
         "goddess|marriage ceremony|marriage proposal|pirate|singapore",
         "http://www.imdb.com/title/tt0449088/?ref_=fn_tt_tt_1",
         "1238.0",
         "English",
         "USA",
         "PG-13",
         "300000000.0",
         "2007.0",
         "5000.0",
         "7.1",
         "2.35",
         "0"
        ],
        [
         "2",
         "Color",
         "Sam Mendes",
         "602.0",
         "148.0",
         "0.0",
         "161.0",
         "Rory Kinnear",
         "11000.0",
         "200074175.0",
         "Action|Adventure|Thriller",
         "Christoph Waltz",
         "Spectre",
         "275868",
         "11700",
         "Stephanie Sigman",
         "1.0",
         "bomb|espionage|sequel|spy|terrorist",
         "http://www.imdb.com/title/tt2379713/?ref_=fn_tt_tt_1",
         "994.0",
         "English",
         "UK",
         "PG-13",
         "245000000.0",
         "2015.0",
         "393.0",
         "6.8",
         "2.35",
         "85000"
        ],
        [
         "3",
         "Color",
         "Christopher Nolan",
         "813.0",
         "164.0",
         "22000.0",
         "23000.0",
         "Christian Bale",
         "27000.0",
         "448130642.0",
         "Action|Thriller",
         "Tom Hardy",
         "The Dark Knight Rises",
         "1144337",
         "106759",
         "Joseph Gordon-Levitt",
         "0.0",
         "deception|imprisonment|lawlessness|police officer|terrorist plot",
         "http://www.imdb.com/title/tt1345836/?ref_=fn_tt_tt_1",
         "2701.0",
         "English",
         "USA",
         "PG-13",
         "250000000.0",
         "2012.0",
         "23000.0",
         "8.5",
         "2.35",
         "164000"
        ],
        [
         "4",
         null,
         "Doug Walker",
         null,
         null,
         "131.0",
         null,
         "Rob Walker",
         "131.0",
         null,
         "Documentary",
         "Doug Walker",
         "Star Wars: Episode VII - The Force Awakens",
         "8",
         "143",
         null,
         "0.0",
         null,
         "http://www.imdb.com/title/tt5289954/?ref_=fn_tt_tt_1",
         null,
         null,
         null,
         null,
         null,
         null,
         "12.0",
         "7.1",
         null,
         "0"
        ]
       ],
       "shape": {
        "columns": 28,
        "rows": 5
       }
      },
      "text/html": [
       "<div>\n",
       "<style scoped>\n",
       "    .dataframe tbody tr th:only-of-type {\n",
       "        vertical-align: middle;\n",
       "    }\n",
       "\n",
       "    .dataframe tbody tr th {\n",
       "        vertical-align: top;\n",
       "    }\n",
       "\n",
       "    .dataframe thead th {\n",
       "        text-align: right;\n",
       "    }\n",
       "</style>\n",
       "<table border=\"1\" class=\"dataframe\">\n",
       "  <thead>\n",
       "    <tr style=\"text-align: right;\">\n",
       "      <th></th>\n",
       "      <th>color</th>\n",
       "      <th>director_name</th>\n",
       "      <th>num_critic_for_reviews</th>\n",
       "      <th>duration</th>\n",
       "      <th>director_facebook_likes</th>\n",
       "      <th>actor_3_facebook_likes</th>\n",
       "      <th>actor_2_name</th>\n",
       "      <th>actor_1_facebook_likes</th>\n",
       "      <th>gross</th>\n",
       "      <th>genres</th>\n",
       "      <th>...</th>\n",
       "      <th>num_user_for_reviews</th>\n",
       "      <th>language</th>\n",
       "      <th>country</th>\n",
       "      <th>content_rating</th>\n",
       "      <th>budget</th>\n",
       "      <th>title_year</th>\n",
       "      <th>actor_2_facebook_likes</th>\n",
       "      <th>imdb_score</th>\n",
       "      <th>aspect_ratio</th>\n",
       "      <th>movie_facebook_likes</th>\n",
       "    </tr>\n",
       "  </thead>\n",
       "  <tbody>\n",
       "    <tr>\n",
       "      <th>0</th>\n",
       "      <td>Color</td>\n",
       "      <td>James Cameron</td>\n",
       "      <td>723.0</td>\n",
       "      <td>178.0</td>\n",
       "      <td>0.0</td>\n",
       "      <td>855.0</td>\n",
       "      <td>Joel David Moore</td>\n",
       "      <td>1000.0</td>\n",
       "      <td>760505847.0</td>\n",
       "      <td>Action|Adventure|Fantasy|Sci-Fi</td>\n",
       "      <td>...</td>\n",
       "      <td>3054.0</td>\n",
       "      <td>English</td>\n",
       "      <td>USA</td>\n",
       "      <td>PG-13</td>\n",
       "      <td>237000000.0</td>\n",
       "      <td>2009.0</td>\n",
       "      <td>936.0</td>\n",
       "      <td>7.9</td>\n",
       "      <td>1.78</td>\n",
       "      <td>33000</td>\n",
       "    </tr>\n",
       "    <tr>\n",
       "      <th>1</th>\n",
       "      <td>Color</td>\n",
       "      <td>Gore Verbinski</td>\n",
       "      <td>302.0</td>\n",
       "      <td>169.0</td>\n",
       "      <td>563.0</td>\n",
       "      <td>1000.0</td>\n",
       "      <td>Orlando Bloom</td>\n",
       "      <td>40000.0</td>\n",
       "      <td>309404152.0</td>\n",
       "      <td>Action|Adventure|Fantasy</td>\n",
       "      <td>...</td>\n",
       "      <td>1238.0</td>\n",
       "      <td>English</td>\n",
       "      <td>USA</td>\n",
       "      <td>PG-13</td>\n",
       "      <td>300000000.0</td>\n",
       "      <td>2007.0</td>\n",
       "      <td>5000.0</td>\n",
       "      <td>7.1</td>\n",
       "      <td>2.35</td>\n",
       "      <td>0</td>\n",
       "    </tr>\n",
       "    <tr>\n",
       "      <th>2</th>\n",
       "      <td>Color</td>\n",
       "      <td>Sam Mendes</td>\n",
       "      <td>602.0</td>\n",
       "      <td>148.0</td>\n",
       "      <td>0.0</td>\n",
       "      <td>161.0</td>\n",
       "      <td>Rory Kinnear</td>\n",
       "      <td>11000.0</td>\n",
       "      <td>200074175.0</td>\n",
       "      <td>Action|Adventure|Thriller</td>\n",
       "      <td>...</td>\n",
       "      <td>994.0</td>\n",
       "      <td>English</td>\n",
       "      <td>UK</td>\n",
       "      <td>PG-13</td>\n",
       "      <td>245000000.0</td>\n",
       "      <td>2015.0</td>\n",
       "      <td>393.0</td>\n",
       "      <td>6.8</td>\n",
       "      <td>2.35</td>\n",
       "      <td>85000</td>\n",
       "    </tr>\n",
       "    <tr>\n",
       "      <th>3</th>\n",
       "      <td>Color</td>\n",
       "      <td>Christopher Nolan</td>\n",
       "      <td>813.0</td>\n",
       "      <td>164.0</td>\n",
       "      <td>22000.0</td>\n",
       "      <td>23000.0</td>\n",
       "      <td>Christian Bale</td>\n",
       "      <td>27000.0</td>\n",
       "      <td>448130642.0</td>\n",
       "      <td>Action|Thriller</td>\n",
       "      <td>...</td>\n",
       "      <td>2701.0</td>\n",
       "      <td>English</td>\n",
       "      <td>USA</td>\n",
       "      <td>PG-13</td>\n",
       "      <td>250000000.0</td>\n",
       "      <td>2012.0</td>\n",
       "      <td>23000.0</td>\n",
       "      <td>8.5</td>\n",
       "      <td>2.35</td>\n",
       "      <td>164000</td>\n",
       "    </tr>\n",
       "    <tr>\n",
       "      <th>4</th>\n",
       "      <td>NaN</td>\n",
       "      <td>Doug Walker</td>\n",
       "      <td>NaN</td>\n",
       "      <td>NaN</td>\n",
       "      <td>131.0</td>\n",
       "      <td>NaN</td>\n",
       "      <td>Rob Walker</td>\n",
       "      <td>131.0</td>\n",
       "      <td>NaN</td>\n",
       "      <td>Documentary</td>\n",
       "      <td>...</td>\n",
       "      <td>NaN</td>\n",
       "      <td>NaN</td>\n",
       "      <td>NaN</td>\n",
       "      <td>NaN</td>\n",
       "      <td>NaN</td>\n",
       "      <td>NaN</td>\n",
       "      <td>12.0</td>\n",
       "      <td>7.1</td>\n",
       "      <td>NaN</td>\n",
       "      <td>0</td>\n",
       "    </tr>\n",
       "  </tbody>\n",
       "</table>\n",
       "<p>5 rows × 28 columns</p>\n",
       "</div>"
      ],
      "text/plain": [
       "   color      director_name  num_critic_for_reviews  duration  \\\n",
       "0  Color      James Cameron                   723.0     178.0   \n",
       "1  Color     Gore Verbinski                   302.0     169.0   \n",
       "2  Color         Sam Mendes                   602.0     148.0   \n",
       "3  Color  Christopher Nolan                   813.0     164.0   \n",
       "4    NaN        Doug Walker                     NaN       NaN   \n",
       "\n",
       "   director_facebook_likes  actor_3_facebook_likes      actor_2_name  \\\n",
       "0                      0.0                   855.0  Joel David Moore   \n",
       "1                    563.0                  1000.0     Orlando Bloom   \n",
       "2                      0.0                   161.0      Rory Kinnear   \n",
       "3                  22000.0                 23000.0    Christian Bale   \n",
       "4                    131.0                     NaN        Rob Walker   \n",
       "\n",
       "   actor_1_facebook_likes        gross                           genres  ...  \\\n",
       "0                  1000.0  760505847.0  Action|Adventure|Fantasy|Sci-Fi  ...   \n",
       "1                 40000.0  309404152.0         Action|Adventure|Fantasy  ...   \n",
       "2                 11000.0  200074175.0        Action|Adventure|Thriller  ...   \n",
       "3                 27000.0  448130642.0                  Action|Thriller  ...   \n",
       "4                   131.0          NaN                      Documentary  ...   \n",
       "\n",
       "  num_user_for_reviews language  country  content_rating       budget  \\\n",
       "0               3054.0  English      USA           PG-13  237000000.0   \n",
       "1               1238.0  English      USA           PG-13  300000000.0   \n",
       "2                994.0  English       UK           PG-13  245000000.0   \n",
       "3               2701.0  English      USA           PG-13  250000000.0   \n",
       "4                  NaN      NaN      NaN             NaN          NaN   \n",
       "\n",
       "   title_year actor_2_facebook_likes imdb_score  aspect_ratio  \\\n",
       "0      2009.0                  936.0        7.9          1.78   \n",
       "1      2007.0                 5000.0        7.1          2.35   \n",
       "2      2015.0                  393.0        6.8          2.35   \n",
       "3      2012.0                23000.0        8.5          2.35   \n",
       "4         NaN                   12.0        7.1           NaN   \n",
       "\n",
       "  movie_facebook_likes  \n",
       "0                33000  \n",
       "1                    0  \n",
       "2                85000  \n",
       "3               164000  \n",
       "4                    0  \n",
       "\n",
       "[5 rows x 28 columns]"
      ]
     },
     "execution_count": 23,
     "metadata": {},
     "output_type": "execute_result"
    }
   ],
   "source": [
    "movie = pd.read_csv(\"C:/Users/hp/OneDrive - Higher Education Commission/Desktop/Business Data Analytics/movie.csv\")\n",
    "movie.head()"
   ]
  },
  {
   "cell_type": "markdown",
   "id": "a26f9fc5",
   "metadata": {},
   "source": [
    "# _Dataset Overview_"
   ]
  },
  {
   "cell_type": "code",
   "execution_count": null,
   "id": "2223ab16",
   "metadata": {},
   "outputs": [
    {
     "data": {
      "text/plain": [
       "(4916, 28)"
      ]
     },
     "execution_count": 25,
     "metadata": {},
     "output_type": "execute_result"
    }
   ],
   "source": [
    "# Shape\n",
    "movie.shape"
   ]
  },
  {
   "cell_type": "code",
   "execution_count": 30,
   "id": "733deb4e",
   "metadata": {},
   "outputs": [
    {
     "data": {
      "text/plain": [
       "['color',\n",
       " 'director_name',\n",
       " 'num_critic_for_reviews',\n",
       " 'duration',\n",
       " 'director_facebook_likes',\n",
       " 'actor_3_facebook_likes',\n",
       " 'actor_2_name',\n",
       " 'actor_1_facebook_likes',\n",
       " 'gross',\n",
       " 'genres',\n",
       " 'actor_1_name',\n",
       " 'movie_title',\n",
       " 'num_voted_users',\n",
       " 'cast_total_facebook_likes',\n",
       " 'actor_3_name',\n",
       " 'facenumber_in_poster',\n",
       " 'plot_keywords',\n",
       " 'movie_imdb_link',\n",
       " 'num_user_for_reviews',\n",
       " 'language',\n",
       " 'country',\n",
       " 'content_rating',\n",
       " 'budget',\n",
       " 'title_year',\n",
       " 'actor_2_facebook_likes',\n",
       " 'imdb_score',\n",
       " 'aspect_ratio',\n",
       " 'movie_facebook_likes']"
      ]
     },
     "execution_count": 30,
     "metadata": {},
     "output_type": "execute_result"
    }
   ],
   "source": [
    "# Columns\n",
    "movie.columns.tolist()\n",
    "\n"
   ]
  },
  {
   "cell_type": "code",
   "execution_count": 31,
   "id": "886d585a",
   "metadata": {},
   "outputs": [
    {
     "name": "stdout",
     "output_type": "stream",
     "text": [
      "<class 'pandas.core.frame.DataFrame'>\n",
      "RangeIndex: 4916 entries, 0 to 4915\n",
      "Data columns (total 28 columns):\n",
      " #   Column                     Non-Null Count  Dtype  \n",
      "---  ------                     --------------  -----  \n",
      " 0   color                      4897 non-null   object \n",
      " 1   director_name              4814 non-null   object \n",
      " 2   num_critic_for_reviews     4867 non-null   float64\n",
      " 3   duration                   4901 non-null   float64\n",
      " 4   director_facebook_likes    4814 non-null   float64\n",
      " 5   actor_3_facebook_likes     4893 non-null   float64\n",
      " 6   actor_2_name               4903 non-null   object \n",
      " 7   actor_1_facebook_likes     4909 non-null   float64\n",
      " 8   gross                      4054 non-null   float64\n",
      " 9   genres                     4916 non-null   object \n",
      " 10  actor_1_name               4909 non-null   object \n",
      " 11  movie_title                4916 non-null   object \n",
      " 12  num_voted_users            4916 non-null   int64  \n",
      " 13  cast_total_facebook_likes  4916 non-null   int64  \n",
      " 14  actor_3_name               4893 non-null   object \n",
      " 15  facenumber_in_poster       4903 non-null   float64\n",
      " 16  plot_keywords              4764 non-null   object \n",
      " 17  movie_imdb_link            4916 non-null   object \n",
      " 18  num_user_for_reviews       4895 non-null   float64\n",
      " 19  language                   4902 non-null   object \n",
      " 20  country                    4911 non-null   object \n",
      " 21  content_rating             4616 non-null   object \n",
      " 22  budget                     4432 non-null   float64\n",
      " 23  title_year                 4810 non-null   float64\n",
      " 24  actor_2_facebook_likes     4903 non-null   float64\n",
      " 25  imdb_score                 4916 non-null   float64\n",
      " 26  aspect_ratio               4590 non-null   float64\n",
      " 27  movie_facebook_likes       4916 non-null   int64  \n",
      "dtypes: float64(13), int64(3), object(12)\n",
      "memory usage: 1.1+ MB\n",
      "None\n"
     ]
    }
   ],
   "source": [
    "# Info\n",
    "print(movie.info())\n"
   ]
  },
  {
   "cell_type": "code",
   "execution_count": 32,
   "id": "289adb40",
   "metadata": {},
   "outputs": [
    {
     "data": {
      "application/vnd.microsoft.datawrangler.viewer.v0+json": {
       "columns": [
        {
         "name": "index",
         "rawType": "object",
         "type": "string"
        },
        {
         "name": "0",
         "rawType": "int64",
         "type": "integer"
        }
       ],
       "ref": "555bd0ff-4740-49a4-93a7-109458bf8ed4",
       "rows": [
        [
         "color",
         "19"
        ],
        [
         "director_name",
         "102"
        ],
        [
         "num_critic_for_reviews",
         "49"
        ],
        [
         "duration",
         "15"
        ],
        [
         "director_facebook_likes",
         "102"
        ],
        [
         "actor_3_facebook_likes",
         "23"
        ],
        [
         "actor_2_name",
         "13"
        ],
        [
         "actor_1_facebook_likes",
         "7"
        ],
        [
         "gross",
         "862"
        ],
        [
         "genres",
         "0"
        ],
        [
         "actor_1_name",
         "7"
        ],
        [
         "movie_title",
         "0"
        ],
        [
         "num_voted_users",
         "0"
        ],
        [
         "cast_total_facebook_likes",
         "0"
        ],
        [
         "actor_3_name",
         "23"
        ],
        [
         "facenumber_in_poster",
         "13"
        ],
        [
         "plot_keywords",
         "152"
        ],
        [
         "movie_imdb_link",
         "0"
        ],
        [
         "num_user_for_reviews",
         "21"
        ],
        [
         "language",
         "14"
        ],
        [
         "country",
         "5"
        ],
        [
         "content_rating",
         "300"
        ],
        [
         "budget",
         "484"
        ],
        [
         "title_year",
         "106"
        ],
        [
         "actor_2_facebook_likes",
         "13"
        ],
        [
         "imdb_score",
         "0"
        ],
        [
         "aspect_ratio",
         "326"
        ],
        [
         "movie_facebook_likes",
         "0"
        ]
       ],
       "shape": {
        "columns": 1,
        "rows": 28
       }
      },
      "text/plain": [
       "color                         19\n",
       "director_name                102\n",
       "num_critic_for_reviews        49\n",
       "duration                      15\n",
       "director_facebook_likes      102\n",
       "actor_3_facebook_likes        23\n",
       "actor_2_name                  13\n",
       "actor_1_facebook_likes         7\n",
       "gross                        862\n",
       "genres                         0\n",
       "actor_1_name                   7\n",
       "movie_title                    0\n",
       "num_voted_users                0\n",
       "cast_total_facebook_likes      0\n",
       "actor_3_name                  23\n",
       "facenumber_in_poster          13\n",
       "plot_keywords                152\n",
       "movie_imdb_link                0\n",
       "num_user_for_reviews          21\n",
       "language                      14\n",
       "country                        5\n",
       "content_rating               300\n",
       "budget                       484\n",
       "title_year                   106\n",
       "actor_2_facebook_likes        13\n",
       "imdb_score                     0\n",
       "aspect_ratio                 326\n",
       "movie_facebook_likes           0\n",
       "dtype: int64"
      ]
     },
     "execution_count": 32,
     "metadata": {},
     "output_type": "execute_result"
    }
   ],
   "source": [
    "\n",
    "# Missing values\n",
    "movie.isnull().sum()"
   ]
  },
  {
   "cell_type": "code",
   "execution_count": null,
   "id": "f4927965",
   "metadata": {},
   "outputs": [
    {
     "data": {
      "text/plain": [
       "RangeIndex(start=0, stop=4916, step=1)"
      ]
     },
     "execution_count": 4,
     "metadata": {},
     "output_type": "execute_result"
    }
   ],
   "source": [
    "index = movie.index\n",
    "index\n"
   ]
  },
  {
   "cell_type": "code",
   "execution_count": 7,
   "id": "bc9f7b7a",
   "metadata": {},
   "outputs": [
    {
     "data": {
      "text/plain": [
       "numpy.ndarray"
      ]
     },
     "execution_count": 7,
     "metadata": {},
     "output_type": "execute_result"
    }
   ],
   "source": [
    "# type ->  index - > shows the row labels of a dataframe\n",
    "pd.core.indexes.range.RangeIndex\n",
    "# type ->  columns -> store the columns lables \n",
    "pd.core.indexes.base.Index\n",
    "# type -> values -> actual data in numpy array \n",
    "np.ndarray\n"
   ]
  },
  {
   "cell_type": "code",
   "execution_count": 8,
   "id": "4758e80e",
   "metadata": {},
   "outputs": [
    {
     "data": {
      "text/plain": [
       "True"
      ]
     },
     "execution_count": 8,
     "metadata": {},
     "output_type": "execute_result"
    }
   ],
   "source": [
    "# issubclass\n",
    "issubclass(pd.RangeIndex, pd.Index)\n"
   ]
  },
  {
   "cell_type": "code",
   "execution_count": 9,
   "id": "ad0749ed",
   "metadata": {},
   "outputs": [
    {
     "name": "stdout",
     "output_type": "stream",
     "text": [
      "[   0    1    2 ... 4913 4914 4915]\n"
     ]
    }
   ],
   "source": [
    "print(index.values)\n"
   ]
  },
  {
   "cell_type": "code",
   "execution_count": 11,
   "id": "ef810e0e",
   "metadata": {},
   "outputs": [
    {
     "data": {
      "application/vnd.microsoft.datawrangler.viewer.v0+json": {
       "columns": [
        {
         "name": "index",
         "rawType": "object",
         "type": "string"
        },
        {
         "name": "0",
         "rawType": "object",
         "type": "unknown"
        }
       ],
       "ref": "090ab886-01dd-4b17-ae24-6049fb9df946",
       "rows": [
        [
         "color",
         "object"
        ],
        [
         "director_name",
         "object"
        ],
        [
         "num_critic_for_reviews",
         "float64"
        ],
        [
         "duration",
         "float64"
        ],
        [
         "director_facebook_likes",
         "float64"
        ],
        [
         "actor_3_facebook_likes",
         "float64"
        ],
        [
         "actor_2_name",
         "object"
        ],
        [
         "actor_1_facebook_likes",
         "float64"
        ],
        [
         "gross",
         "float64"
        ],
        [
         "genres",
         "object"
        ],
        [
         "actor_1_name",
         "object"
        ],
        [
         "movie_title",
         "object"
        ],
        [
         "num_voted_users",
         "int64"
        ],
        [
         "cast_total_facebook_likes",
         "int64"
        ],
        [
         "actor_3_name",
         "object"
        ],
        [
         "facenumber_in_poster",
         "float64"
        ],
        [
         "plot_keywords",
         "object"
        ],
        [
         "movie_imdb_link",
         "object"
        ],
        [
         "num_user_for_reviews",
         "float64"
        ],
        [
         "language",
         "object"
        ],
        [
         "country",
         "object"
        ],
        [
         "content_rating",
         "object"
        ],
        [
         "budget",
         "float64"
        ],
        [
         "title_year",
         "float64"
        ],
        [
         "actor_2_facebook_likes",
         "float64"
        ],
        [
         "imdb_score",
         "float64"
        ],
        [
         "aspect_ratio",
         "float64"
        ],
        [
         "movie_facebook_likes",
         "int64"
        ]
       ],
       "shape": {
        "columns": 1,
        "rows": 28
       }
      },
      "text/plain": [
       "color                         object\n",
       "director_name                 object\n",
       "num_critic_for_reviews       float64\n",
       "duration                     float64\n",
       "director_facebook_likes      float64\n",
       "actor_3_facebook_likes       float64\n",
       "actor_2_name                  object\n",
       "actor_1_facebook_likes       float64\n",
       "gross                        float64\n",
       "genres                        object\n",
       "actor_1_name                  object\n",
       "movie_title                   object\n",
       "num_voted_users                int64\n",
       "cast_total_facebook_likes      int64\n",
       "actor_3_name                  object\n",
       "facenumber_in_poster         float64\n",
       "plot_keywords                 object\n",
       "movie_imdb_link               object\n",
       "num_user_for_reviews         float64\n",
       "language                      object\n",
       "country                       object\n",
       "content_rating                object\n",
       "budget                       float64\n",
       "title_year                   float64\n",
       "actor_2_facebook_likes       float64\n",
       "imdb_score                   float64\n",
       "aspect_ratio                 float64\n",
       "movie_facebook_likes           int64\n",
       "dtype: object"
      ]
     },
     "execution_count": 11,
     "metadata": {},
     "output_type": "execute_result"
    }
   ],
   "source": [
    "movie.dtypes"
   ]
  },
  {
   "cell_type": "code",
   "execution_count": 12,
   "id": "5e625ac1",
   "metadata": {},
   "outputs": [
    {
     "data": {
      "application/vnd.microsoft.datawrangler.viewer.v0+json": {
       "columns": [
        {
         "name": "index",
         "rawType": "object",
         "type": "unknown"
        },
        {
         "name": "count",
         "rawType": "int64",
         "type": "integer"
        }
       ],
       "ref": "05198c30-d0ea-4a46-bd8e-a11eed02505d",
       "rows": [
        [
         "float64",
         "13"
        ],
        [
         "object",
         "12"
        ],
        [
         "int64",
         "3"
        ]
       ],
       "shape": {
        "columns": 1,
        "rows": 3
       }
      },
      "text/plain": [
       "float64    13\n",
       "object     12\n",
       "int64       3\n",
       "Name: count, dtype: int64"
      ]
     },
     "execution_count": 12,
     "metadata": {},
     "output_type": "execute_result"
    }
   ],
   "source": [
    "# Counts of each data type\n",
    "movie.dtypes.value_counts()"
   ]
  },
  {
   "cell_type": "markdown",
   "id": "fbb7c5ed",
   "metadata": {},
   "source": [
    "# _Data Cleaning_"
   ]
  },
  {
   "cell_type": "code",
   "execution_count": null,
   "id": "f7e84d4e",
   "metadata": {},
   "outputs": [],
   "source": [
    "# Drop duplicates\n",
    "movie = movie.drop_duplicates()"
   ]
  },
  {
   "cell_type": "code",
   "execution_count": 34,
   "id": "d6f29d3d",
   "metadata": {},
   "outputs": [
    {
     "data": {
      "text/plain": [
       "(4916, 28)"
      ]
     },
     "execution_count": 34,
     "metadata": {},
     "output_type": "execute_result"
    }
   ],
   "source": [
    "# drop rows for now\n",
    "movie = movie.dropna(subset=['imdb_score'])\n",
    "movie.shape\n"
   ]
  },
  {
   "cell_type": "markdown",
   "id": "c7989988",
   "metadata": {},
   "source": [
    "# _IMDb Scores Analysis_"
   ]
  },
  {
   "cell_type": "markdown",
   "id": "198d01b5",
   "metadata": {},
   "source": [
    "* explore  movies.  \n",
    "- Distribution of IMDb scores  \n",
    "- Top 10 highest-rated movies  \n",
    "- Lowest-rated movies "
   ]
  },
  {
   "cell_type": "code",
   "execution_count": 35,
   "id": "9d2948f2",
   "metadata": {},
   "outputs": [
    {
     "data": {
      "image/png": "[encoded data removed]",
      "text/plain": [
       "<Figure size 800x500 with 1 Axes>"
      ]
     },
     "metadata": {},
     "output_type": "display_data"
    }
   ],
   "source": [
    "# Distribution of IMDb scores\n",
    "plt.figure(figsize=(8,5))\n",
    "sns.histplot(movie['imdb_score'], bins=20, kde=True)\n",
    "plt.title(\"Distribution of IMDb Scores\")\n",
    "plt.xlabel(\"IMDb Score\")\n",
    "plt.ylabel(\"Count\")\n",
    "plt.show()"
   ]
  },
  {
   "cell_type": "code",
   "execution_count": 36,
   "id": "2dab1341",
   "metadata": {},
   "outputs": [
    {
     "name": "stdout",
     "output_type": "stream",
     "text": [
      "Top 10 Highest Rated Movies:\n",
      "                   movie_title  imdb_score\n",
      "2725          Towering Inferno         9.5\n",
      "1920  The Shawshank Redemption         9.3\n",
      "3402             The Godfather         9.2\n",
      "4312      Kickboxer: Vengeance         9.1\n",
      "2779                   Dekalog         9.1\n",
      "2791    The Godfather: Part II         9.0\n",
      "3415                     Fargo         9.0\n",
      "66             The Dark Knight         9.0\n",
      "3295              Pulp Fiction         8.9\n",
      "4706              12 Angry Men         8.9\n"
     ]
    }
   ],
   "source": [
    "# Top 10 movies by IMDb score\n",
    "top_movies = movie[['movie_title','imdb_score']].sort_values(by='imdb_score', ascending=False).head(10)\n",
    "print(\"Top 10 Highest Rated Movies:\")\n",
    "print(top_movies)\n"
   ]
  },
  {
   "cell_type": "code",
   "execution_count": 37,
   "id": "9dfa4cd5",
   "metadata": {},
   "outputs": [
    {
     "name": "stdout",
     "output_type": "stream",
     "text": [
      "\n",
      "Lowest 10 Rated Movies:\n",
      "                         movie_title  imdb_score\n",
      "2789  Justin Bieber: Never Say Never         1.6\n",
      "1126                      Foodfight!         1.7\n",
      "2240                  Disaster Movie         1.9\n",
      "2266    Superbabies: Baby Geniuses 2         1.9\n",
      "4498             The Helix... Loaded         1.9\n",
      "3438               Who's Your Caddy?         2.0\n",
      "1713                 United Passions         2.0\n",
      "2934            From Justin to Kelly         2.1\n",
      "3595                       Crossover         2.1\n",
      "3282                         Glitter         2.1\n"
     ]
    }
   ],
   "source": [
    "# Bottom 10 movies\n",
    "low_movies = movie[['movie_title','imdb_score']].sort_values(by='imdb_score', ascending=True).head(10)\n",
    "print(\"\\nLowest 10 Rated Movies:\")\n",
    "print(low_movies)"
   ]
  },
  {
   "cell_type": "markdown",
   "id": "8bf4ba67",
   "metadata": {},
   "source": [
    "# Movie Genres Analysis"
   ]
  },
  {
   "cell_type": "markdown",
   "id": "8440edda",
   "metadata": {},
   "source": [
    "- Genres  show audience preferences.  \n",
    "- We can see which genres dominate in this dataset and how they relate to ratings.  "
   ]
  },
  {
   "cell_type": "markdown",
   "id": "97258649",
   "metadata": {},
   "source": [
    "### Top 10 genres"
   ]
  },
  {
   "cell_type": "code",
   "execution_count": 38,
   "id": "c977e4e5",
   "metadata": {},
   "outputs": [
    {
     "name": "stderr",
     "output_type": "stream",
     "text": [
      "C:\\Users\\hp\\AppData\\Local\\Temp\\ipykernel_5232\\51294739.py:4: FutureWarning: \n",
      "\n",
      "Passing `palette` without assigning `hue` is deprecated and will be removed in v0.14.0. Assign the `y` variable to `hue` and set `legend=False` for the same effect.\n",
      "\n",
      "  sns.barplot(x=top_genres.values, y=top_genres.index, palette=\"viridis\")\n"
     ]
    },
    {
     "data": {
      "image/png": "[encoded data removed]",
      "text/plain": [
       "<Figure size 1000x500 with 1 Axes>"
      ]
     },
     "metadata": {},
     "output_type": "display_data"
    }
   ],
   "source": [
    "\n",
    "top_genres = movie['genres'].value_counts().head(10)\n",
    "\n",
    "plt.figure(figsize=(10,5))\n",
    "sns.barplot(x=top_genres.values, y=top_genres.index, palette=\"viridis\")\n",
    "plt.title(\"Top 10 Movie Genres\")\n",
    "plt.xlabel(\"Number of Movies\")\n",
    "plt.ylabel(\"Genre\")\n",
    "plt.show()"
   ]
  },
  {
   "cell_type": "markdown",
   "id": "c12d9481",
   "metadata": {},
   "source": [
    "###  Average IMDb score by genre \n"
   ]
  },
  {
   "cell_type": "code",
   "execution_count": 39,
   "id": "b0272e38",
   "metadata": {},
   "outputs": [
    {
     "name": "stderr",
     "output_type": "stream",
     "text": [
      "C:\\Users\\hp\\AppData\\Local\\Temp\\ipykernel_5232\\2674214774.py:4: FutureWarning: \n",
      "\n",
      "Passing `palette` without assigning `hue` is deprecated and will be removed in v0.14.0. Assign the `y` variable to `hue` and set `legend=False` for the same effect.\n",
      "\n",
      "  sns.barplot(x=avg_genre_score.values, y=avg_genre_score.index, palette=\"magma\")\n"
     ]
    },
    {
     "data": {
      "image/png": "[encoded data removed]",
      "text/plain": [
       "<Figure size 1000x500 with 1 Axes>"
      ]
     },
     "metadata": {},
     "output_type": "display_data"
    }
   ],
   "source": [
    "avg_genre_score = movie.groupby('genres')['imdb_score'].mean().sort_values(ascending=False).head(10)\n",
    "\n",
    "plt.figure(figsize=(10,5))\n",
    "sns.barplot(x=avg_genre_score.values, y=avg_genre_score.index, palette=\"magma\")\n",
    "plt.title(\"Top 10 Genres by Average IMDb Score\")\n",
    "plt.xlabel(\"Average IMDb Score\")\n",
    "plt.ylabel(\"Genre\")\n",
    "plt.show()\n"
   ]
  },
  {
   "cell_type": "markdown",
   "id": "63a090ee",
   "metadata": {},
   "source": [
    "`Analysis`\n",
    "- Top-rated movies cluster around certain genres.  \n",
    "- IMDb scores mostly fall between **6–8**.  \n",
    "- Drama and Action dominate movie production.  "
   ]
  },
  {
   "cell_type": "markdown",
   "id": "0d352b40",
   "metadata": {},
   "source": [
    "# Selecting Columns"
   ]
  },
  {
   "cell_type": "code",
   "execution_count": 40,
   "id": "8b805b59",
   "metadata": {},
   "outputs": [
    {
     "data": {
      "application/vnd.microsoft.datawrangler.viewer.v0+json": {
       "columns": [
        {
         "name": "index",
         "rawType": "int64",
         "type": "integer"
        },
        {
         "name": "director_name",
         "rawType": "object",
         "type": "unknown"
        }
       ],
       "ref": "a38344f4-f94d-4382-b990-06563f95aa61",
       "rows": [
        [
         "0",
         "James Cameron"
        ],
        [
         "1",
         "Gore Verbinski"
        ],
        [
         "2",
         "Sam Mendes"
        ],
        [
         "3",
         "Christopher Nolan"
        ],
        [
         "4",
         "Doug Walker"
        ],
        [
         "5",
         "Andrew Stanton"
        ],
        [
         "6",
         "Sam Raimi"
        ],
        [
         "7",
         "Nathan Greno"
        ],
        [
         "8",
         "Joss Whedon"
        ],
        [
         "9",
         "David Yates"
        ],
        [
         "10",
         "Zack Snyder"
        ],
        [
         "11",
         "Bryan Singer"
        ],
        [
         "12",
         "Marc Forster"
        ],
        [
         "13",
         "Gore Verbinski"
        ],
        [
         "14",
         "Gore Verbinski"
        ],
        [
         "15",
         "Zack Snyder"
        ],
        [
         "16",
         "Andrew Adamson"
        ],
        [
         "17",
         "Joss Whedon"
        ],
        [
         "18",
         "Rob Marshall"
        ],
        [
         "19",
         "Barry Sonnenfeld"
        ],
        [
         "20",
         "Peter Jackson"
        ],
        [
         "21",
         "Marc Webb"
        ],
        [
         "22",
         "Ridley Scott"
        ],
        [
         "23",
         "Peter Jackson"
        ],
        [
         "24",
         "Chris Weitz"
        ],
        [
         "25",
         "Peter Jackson"
        ],
        [
         "26",
         "James Cameron"
        ],
        [
         "27",
         "Anthony Russo"
        ],
        [
         "28",
         "Peter Berg"
        ],
        [
         "29",
         "Colin Trevorrow"
        ],
        [
         "30",
         "Sam Mendes"
        ],
        [
         "31",
         "Sam Raimi"
        ],
        [
         "32",
         "Shane Black"
        ],
        [
         "33",
         "Tim Burton"
        ],
        [
         "34",
         "Brett Ratner"
        ],
        [
         "35",
         "Dan Scanlon"
        ],
        [
         "36",
         "Michael Bay"
        ],
        [
         "37",
         "Michael Bay"
        ],
        [
         "38",
         "Sam Raimi"
        ],
        [
         "39",
         "Marc Webb"
        ],
        [
         "40",
         "Joseph Kosinski"
        ],
        [
         "41",
         "John Lasseter"
        ],
        [
         "42",
         "Martin Campbell"
        ],
        [
         "43",
         "Lee Unkrich"
        ],
        [
         "44",
         "McG"
        ],
        [
         "45",
         "James Wan"
        ],
        [
         "46",
         "Marc Forster"
        ],
        [
         "47",
         "Bryan Singer"
        ],
        [
         "48",
         "J.J. Abrams"
        ],
        [
         "49",
         "Bryan Singer"
        ]
       ],
       "shape": {
        "columns": 1,
        "rows": 4916
       }
      },
      "text/plain": [
       "0           James Cameron\n",
       "1          Gore Verbinski\n",
       "2              Sam Mendes\n",
       "3       Christopher Nolan\n",
       "4             Doug Walker\n",
       "              ...        \n",
       "4911          Scott Smith\n",
       "4912                  NaN\n",
       "4913     Benjamin Roberds\n",
       "4914          Daniel Hsia\n",
       "4915             Jon Gunn\n",
       "Name: director_name, Length: 4916, dtype: object"
      ]
     },
     "execution_count": 40,
     "metadata": {},
     "output_type": "execute_result"
    }
   ],
   "source": [
    "movie.director_name "
   ]
  },
  {
   "cell_type": "code",
   "execution_count": 41,
   "id": "5d921d0c",
   "metadata": {},
   "outputs": [
    {
     "data": {
      "text/plain": [
       "pandas.core.series.Series"
      ]
     },
     "execution_count": 41,
     "metadata": {},
     "output_type": "execute_result"
    }
   ],
   "source": [
    "# To chechk the output in a series \n",
    "type(movie.director_name)"
   ]
  },
  {
   "cell_type": "code",
   "execution_count": 42,
   "id": "1c1dc1dd",
   "metadata": {},
   "outputs": [
    {
     "name": "stdout",
     "output_type": "stream",
     "text": [
      "0        James Cameron\n",
      "1       Gore Verbinski\n",
      "2           Sam Mendes\n",
      "3    Christopher Nolan\n",
      "4          Doug Walker\n",
      "Name: director_name, dtype: object\n",
      "0     1000.0\n",
      "1    40000.0\n",
      "2    11000.0\n",
      "3    27000.0\n",
      "4      131.0\n",
      "Name: actor_1_facebook_likes, dtype: float64\n"
     ]
    }
   ],
   "source": [
    "# select the specific columns name \n",
    "director = movie['director_name']\n",
    "actor_1_fb_likes = movie['actor_1_facebook_likes']\n",
    "print(director.head())\n",
    "print(actor_1_fb_likes.head())"
   ]
  },
  {
   "cell_type": "markdown",
   "id": "c20853b3",
   "metadata": {},
   "source": [
    "# Value Counts"
   ]
  },
  {
   "cell_type": "code",
   "execution_count": 43,
   "id": "b30677f1",
   "metadata": {},
   "outputs": [
    {
     "data": {
      "application/vnd.microsoft.datawrangler.viewer.v0+json": {
       "columns": [
        {
         "name": "director_name",
         "rawType": "object",
         "type": "string"
        },
        {
         "name": "count",
         "rawType": "int64",
         "type": "integer"
        }
       ],
       "ref": "2283e7d9-3326-40d0-a7d3-4f8d8846b0a0",
       "rows": [
        [
         "Steven Spielberg",
         "26"
        ],
        [
         "Woody Allen",
         "22"
        ],
        [
         "Clint Eastwood",
         "20"
        ],
        [
         "Martin Scorsese",
         "20"
        ],
        [
         "Spike Lee",
         "16"
        ],
        [
         "Ridley Scott",
         "16"
        ],
        [
         "Steven Soderbergh",
         "15"
        ],
        [
         "Renny Harlin",
         "15"
        ],
        [
         "Tim Burton",
         "14"
        ],
        [
         "Oliver Stone",
         "14"
        ],
        [
         "Robert Rodriguez",
         "13"
        ],
        [
         "Barry Levinson",
         "13"
        ],
        [
         "Ron Howard",
         "13"
        ],
        [
         "Robert Zemeckis",
         "13"
        ],
        [
         "Joel Schumacher",
         "13"
        ],
        [
         "Michael Bay",
         "12"
        ],
        [
         "Tony Scott",
         "12"
        ],
        [
         "Brian De Palma",
         "12"
        ],
        [
         "Kevin Smith",
         "12"
        ],
        [
         "Richard Donner",
         "11"
        ],
        [
         "Chris Columbus",
         "11"
        ],
        [
         "Richard Linklater",
         "11"
        ],
        [
         "Rob Reiner",
         "11"
        ],
        [
         "Francis Ford Coppola",
         "11"
        ],
        [
         "Sam Raimi",
         "11"
        ],
        [
         "Shawn Levy",
         "11"
        ],
        [
         "John Carpenter",
         "10"
        ],
        [
         "David Fincher",
         "10"
        ],
        [
         "John McTiernan",
         "10"
        ],
        [
         "Bobby Farrelly",
         "10"
        ],
        [
         "Wes Craven",
         "10"
        ],
        [
         "Stephen Frears",
         "10"
        ],
        [
         "Paul W.S. Anderson",
         "10"
        ],
        [
         "Peter Jackson",
         "9"
        ],
        [
         "Lasse Hallström",
         "9"
        ],
        [
         "Phillip Noyce",
         "9"
        ],
        [
         "Dennis Dugan",
         "9"
        ],
        [
         "Brett Ratner",
         "9"
        ],
        [
         "Tyler Perry",
         "9"
        ],
        [
         "Rob Cohen",
         "9"
        ],
        [
         "M. Night Shyamalan",
         "9"
        ],
        [
         "Ang Lee",
         "8"
        ],
        [
         "Donald Petrie",
         "8"
        ],
        [
         "Alfred Hitchcock",
         "8"
        ],
        [
         "Quentin Tarantino",
         "8"
        ],
        [
         "Neil Jordan",
         "8"
        ],
        [
         "Garry Marshall",
         "8"
        ],
        [
         "James Mangold",
         "8"
        ],
        [
         "Harold Ramis",
         "8"
        ],
        [
         "Marc Forster",
         "8"
        ]
       ],
       "shape": {
        "columns": 1,
        "rows": 2397
       }
      },
      "text/plain": [
       "director_name\n",
       "Steven Spielberg      26\n",
       "Woody Allen           22\n",
       "Clint Eastwood        20\n",
       "Martin Scorsese       20\n",
       "Spike Lee             16\n",
       "                      ..\n",
       "Mike Bruce             1\n",
       "Bradley Rust Gray      1\n",
       "Collin Joseph Neal     1\n",
       "Kirk Loudon            1\n",
       "Kevin Jordan           1\n",
       "Name: count, Length: 2397, dtype: int64"
      ]
     },
     "execution_count": 43,
     "metadata": {},
     "output_type": "execute_result"
    }
   ],
   "source": [
    "director.value_counts()"
   ]
  },
  {
   "cell_type": "code",
   "execution_count": 18,
   "id": "3ff0097d",
   "metadata": {},
   "outputs": [
    {
     "data": {
      "application/vnd.microsoft.datawrangler.viewer.v0+json": {
       "columns": [
        {
         "name": "actor_1_facebook_likes",
         "rawType": "float64",
         "type": "float"
        },
        {
         "name": "count",
         "rawType": "int64",
         "type": "integer"
        }
       ],
       "ref": "dcc45db1-17de-4086-8b74-e4f6afd268eb",
       "rows": [
        [
         "1000.0",
         "436"
        ],
        [
         "11000.0",
         "206"
        ],
        [
         "2000.0",
         "189"
        ],
        [
         "3000.0",
         "150"
        ],
        [
         "12000.0",
         "131"
        ],
        [
         "13000.0",
         "123"
        ],
        [
         "14000.0",
         "120"
        ],
        [
         "10000.0",
         "109"
        ],
        [
         "18000.0",
         "106"
        ],
        [
         "22000.0",
         "80"
        ],
        [
         "15000.0",
         "71"
        ],
        [
         "23000.0",
         "55"
        ],
        [
         "16000.0",
         "55"
        ],
        [
         "4000.0",
         "54"
        ],
        [
         "8000.0",
         "51"
        ],
        [
         "17000.0",
         "45"
        ],
        [
         "26000.0",
         "39"
        ],
        [
         "20000.0",
         "38"
        ],
        [
         "40000.0",
         "36"
        ],
        [
         "21000.0",
         "34"
        ],
        [
         "19000.0",
         "31"
        ],
        [
         "5000.0",
         "30"
        ],
        [
         "24000.0",
         "29"
        ],
        [
         "49000.0",
         "27"
        ],
        [
         "0.0",
         "26"
        ],
        [
         "29000.0",
         "20"
        ],
        [
         "6000.0",
         "20"
        ],
        [
         "33000.0",
         "18"
        ],
        [
         "826.0",
         "17"
        ],
        [
         "34000.0",
         "16"
        ],
        [
         "975.0",
         "15"
        ],
        [
         "982.0",
         "13"
        ],
        [
         "844.0",
         "13"
        ],
        [
         "963.0",
         "12"
        ],
        [
         "989.0",
         "12"
        ],
        [
         "962.0",
         "12"
        ],
        [
         "883.0",
         "12"
        ],
        [
         "25000.0",
         "12"
        ],
        [
         "723.0",
         "12"
        ],
        [
         "27000.0",
         "11"
        ],
        [
         "970.0",
         "11"
        ],
        [
         "690.0",
         "11"
        ],
        [
         "7000.0",
         "11"
        ],
        [
         "940.0",
         "11"
        ],
        [
         "584.0",
         "11"
        ],
        [
         "971.0",
         "10"
        ],
        [
         "979.0",
         "10"
        ],
        [
         "931.0",
         "10"
        ],
        [
         "854.0",
         "10"
        ],
        [
         "939.0",
         "10"
        ]
       ],
       "shape": {
        "columns": 1,
        "rows": 877
       }
      },
      "text/plain": [
       "actor_1_facebook_likes\n",
       "1000.0     436\n",
       "11000.0    206\n",
       "2000.0     189\n",
       "3000.0     150\n",
       "12000.0    131\n",
       "          ... \n",
       "375.0        1\n",
       "318.0        1\n",
       "630.0        1\n",
       "10.0         1\n",
       "291.0        1\n",
       "Name: count, Length: 877, dtype: int64"
      ]
     },
     "execution_count": 18,
     "metadata": {},
     "output_type": "execute_result"
    }
   ],
   "source": [
    "actor_1_fb_likes.value_counts()"
   ]
  },
  {
   "cell_type": "code",
   "execution_count": 19,
   "id": "b81a03d3",
   "metadata": {},
   "outputs": [
    {
     "data": {
      "text/plain": [
       "4916"
      ]
     },
     "execution_count": 19,
     "metadata": {},
     "output_type": "execute_result"
    }
   ],
   "source": [
    "director.size\n"
   ]
  },
  {
   "cell_type": "code",
   "execution_count": 21,
   "id": "60da7eb3",
   "metadata": {},
   "outputs": [
    {
     "data": {
      "text/plain": [
       "(4916,)"
      ]
     },
     "execution_count": 21,
     "metadata": {},
     "output_type": "execute_result"
    }
   ],
   "source": [
    "director.shape"
   ]
  },
  {
   "cell_type": "code",
   "execution_count": null,
   "id": "e8c000f5",
   "metadata": {},
   "outputs": [
    {
     "data": {
      "text/plain": [
       "4916"
      ]
     },
     "execution_count": 59,
     "metadata": {},
     "output_type": "execute_result"
    }
   ],
   "source": [
    "len(director)"
   ]
  },
  {
   "cell_type": "code",
   "execution_count": null,
   "id": "d1ec6544",
   "metadata": {},
   "outputs": [
    {
     "data": {
      "text/plain": [
       "np.int64(4814)"
      ]
     },
     "execution_count": 60,
     "metadata": {},
     "output_type": "execute_result"
    }
   ],
   "source": [
    "# use count method for chechk non missing values\n",
    "director.count()\n"
   ]
  },
  {
   "cell_type": "code",
   "execution_count": null,
   "id": "14e7bff7",
   "metadata": {},
   "outputs": [
    {
     "data": {
      "text/plain": [
       "np.int64(4909)"
      ]
     },
     "execution_count": 61,
     "metadata": {},
     "output_type": "execute_result"
    }
   ],
   "source": [
    "actor_1_fb_likes.count()"
   ]
  },
  {
   "cell_type": "code",
   "execution_count": null,
   "id": "a8d64f32",
   "metadata": {},
   "outputs": [
    {
     "data": {
      "text/plain": [
       "(0.0,\n",
       " 640000.0,\n",
       " np.float64(6494.488490527602),\n",
       " 982.0,\n",
       " 15106.986883848309,\n",
       " np.float64(31881444.0))"
      ]
     },
     "execution_count": 62,
     "metadata": {},
     "output_type": "execute_result"
    }
   ],
   "source": [
    "actor_1_fb_likes.min(), actor_1_fb_likes.max(), \\\n",
    "actor_1_fb_likes.mean(), actor_1_fb_likes.median(), \\\n",
    "actor_1_fb_likes.std(),actor_1_fb_likes.sum()"
   ]
  },
  {
   "cell_type": "code",
   "execution_count": null,
   "id": "1b584c26",
   "metadata": {},
   "outputs": [
    {
     "data": {
      "application/vnd.microsoft.datawrangler.viewer.v0+json": {
       "columns": [
        {
         "name": "index",
         "rawType": "object",
         "type": "string"
        },
        {
         "name": "director_name",
         "rawType": "object",
         "type": "unknown"
        }
       ],
       "ref": "90498b45-86ab-4b0e-9213-1f9bb6309f5f",
       "rows": [
        [
         "count",
         "4814"
        ],
        [
         "unique",
         "2397"
        ],
        [
         "top",
         "Steven Spielberg"
        ],
        [
         "freq",
         "26"
        ]
       ],
       "shape": {
        "columns": 1,
        "rows": 4
       }
      },
      "text/plain": [
       "count                 4814\n",
       "unique                2397\n",
       "top       Steven Spielberg\n",
       "freq                    26\n",
       "Name: director_name, dtype: object"
      ]
     },
     "execution_count": 63,
     "metadata": {},
     "output_type": "execute_result"
    }
   ],
   "source": [
    "director.describe()"
   ]
  },
  {
   "cell_type": "code",
   "execution_count": null,
   "id": "89c096d0",
   "metadata": {},
   "outputs": [
    {
     "data": {
      "application/vnd.microsoft.datawrangler.viewer.v0+json": {
       "columns": [
        {
         "name": "index",
         "rawType": "object",
         "type": "string"
        },
        {
         "name": "actor_1_facebook_likes",
         "rawType": "float64",
         "type": "float"
        }
       ],
       "ref": "575b17bd-0c21-46af-99cd-94c57af92920",
       "rows": [
        [
         "count",
         "4909.0"
        ],
        [
         "mean",
         "6494.488490527602"
        ],
        [
         "std",
         "15106.986883848309"
        ],
        [
         "min",
         "0.0"
        ],
        [
         "25%",
         "607.0"
        ],
        [
         "50%",
         "982.0"
        ],
        [
         "75%",
         "11000.0"
        ],
        [
         "max",
         "640000.0"
        ]
       ],
       "shape": {
        "columns": 1,
        "rows": 8
       }
      },
      "text/plain": [
       "count      4909.000000\n",
       "mean       6494.488491\n",
       "std       15106.986884\n",
       "min           0.000000\n",
       "25%         607.000000\n",
       "50%         982.000000\n",
       "75%       11000.000000\n",
       "max      640000.000000\n",
       "Name: actor_1_facebook_likes, dtype: float64"
      ]
     },
     "execution_count": 64,
     "metadata": {},
     "output_type": "execute_result"
    }
   ],
   "source": [
    "actor_1_fb_likes.describe()"
   ]
  },
  {
   "cell_type": "markdown",
   "id": "490575fc",
   "metadata": {},
   "source": [
    "# Quantile Analysis"
   ]
  },
  {
   "cell_type": "code",
   "execution_count": null,
   "id": "2f0c161a",
   "metadata": {},
   "outputs": [
    {
     "data": {
      "text/plain": [
       "np.float64(510.0)"
      ]
     },
     "execution_count": 65,
     "metadata": {},
     "output_type": "execute_result"
    }
   ],
   "source": [
    "actor_1_fb_likes.quantile(.2)"
   ]
  },
  {
   "cell_type": "code",
   "execution_count": null,
   "id": "9ee45814",
   "metadata": {},
   "outputs": [
    {
     "data": {
      "application/vnd.microsoft.datawrangler.viewer.v0+json": {
       "columns": [
        {
         "name": "index",
         "rawType": "float64",
         "type": "float"
        },
        {
         "name": "actor_1_facebook_likes",
         "rawType": "float64",
         "type": "float"
        }
       ],
       "ref": "42eeed4b-0cef-42f6-b16a-d67e7cdea192",
       "rows": [
        [
         "0.1",
         "240.0"
        ],
        [
         "0.2",
         "510.0"
        ],
        [
         "0.3",
         "694.0"
        ],
        [
         "0.4",
         "854.0"
        ],
        [
         "0.5",
         "982.0"
        ],
        [
         "0.6",
         "1000.0"
        ],
        [
         "0.7",
         "8000.0"
        ],
        [
         "0.8",
         "13000.0"
        ],
        [
         "0.9",
         "18000.0"
        ]
       ],
       "shape": {
        "columns": 1,
        "rows": 9
       }
      },
      "text/plain": [
       "0.1      240.0\n",
       "0.2      510.0\n",
       "0.3      694.0\n",
       "0.4      854.0\n",
       "0.5      982.0\n",
       "0.6     1000.0\n",
       "0.7     8000.0\n",
       "0.8    13000.0\n",
       "0.9    18000.0\n",
       "Name: actor_1_facebook_likes, dtype: float64"
      ]
     },
     "execution_count": 66,
     "metadata": {},
     "output_type": "execute_result"
    }
   ],
   "source": [
    "actor_1_fb_likes.quantile([.1, .2, .3, .4, .5, .6, .7, .8, .9])"
   ]
  },
  {
   "cell_type": "markdown",
   "id": "7b62d2d4",
   "metadata": {},
   "source": [
    "# Working with operators \n"
   ]
  },
  {
   "cell_type": "code",
   "execution_count": null,
   "id": "a5b83c09",
   "metadata": {},
   "outputs": [
    {
     "data": {
      "text/plain": [
       "True"
      ]
     },
     "execution_count": 71,
     "metadata": {},
     "output_type": "execute_result"
    }
   ],
   "source": [
    "# Plus_operators\n",
    "5 + 9\n",
    "# Exponentiation \n",
    "4 ** 2\n",
    "# assignment operator\n",
    "a= 10\n",
    "# less than or equal to \n",
    "5 <= 9"
   ]
  },
  {
   "cell_type": "code",
   "execution_count": null,
   "id": "839edb25",
   "metadata": {},
   "outputs": [
    {
     "data": {
      "text/plain": [
       "False"
      ]
     },
     "execution_count": 72,
     "metadata": {},
     "output_type": "execute_result"
    }
   ],
   "source": [
    "'abcde' + 'fg'\n",
    "not (5<=9)\n"
   ]
  },
  {
   "cell_type": "code",
   "execution_count": null,
   "id": "c88b068f",
   "metadata": {},
   "outputs": [
    {
     "data": {
      "text/plain": [
       "False"
      ]
     },
     "execution_count": 73,
     "metadata": {},
     "output_type": "execute_result"
    }
   ],
   "source": [
    "7 in [1,3,6]"
   ]
  },
  {
   "cell_type": "code",
   "execution_count": null,
   "id": "c098e1a9",
   "metadata": {},
   "outputs": [
    {
     "data": {
      "text/plain": [
       "{2, 3}"
      ]
     },
     "execution_count": 74,
     "metadata": {},
     "output_type": "execute_result"
    }
   ],
   "source": [
    "set([1,2,3]) & set([2,3,4])\n"
   ]
  },
  {
   "cell_type": "markdown",
   "id": "0ee29563",
   "metadata": {},
   "source": [
    "# imbd_score_columns "
   ]
  },
  {
   "cell_type": "code",
   "execution_count": null,
   "id": "7b631add",
   "metadata": {},
   "outputs": [
    {
     "data": {
      "application/vnd.microsoft.datawrangler.viewer.v0+json": {
       "columns": [
        {
         "name": "index",
         "rawType": "int64",
         "type": "integer"
        },
        {
         "name": "imdb_score",
         "rawType": "float64",
         "type": "float"
        }
       ],
       "ref": "adc4b901-4945-491b-bc43-ad34ee6aeb50",
       "rows": [
        [
         "0",
         "7.9"
        ],
        [
         "1",
         "7.1"
        ],
        [
         "2",
         "6.8"
        ],
        [
         "3",
         "8.5"
        ],
        [
         "4",
         "7.1"
        ],
        [
         "5",
         "6.6"
        ],
        [
         "6",
         "6.2"
        ],
        [
         "7",
         "7.8"
        ],
        [
         "8",
         "7.5"
        ],
        [
         "9",
         "7.5"
        ],
        [
         "10",
         "6.9"
        ],
        [
         "11",
         "6.1"
        ],
        [
         "12",
         "6.7"
        ],
        [
         "13",
         "7.3"
        ],
        [
         "14",
         "6.5"
        ],
        [
         "15",
         "7.2"
        ],
        [
         "16",
         "6.6"
        ],
        [
         "17",
         "8.1"
        ],
        [
         "18",
         "6.7"
        ],
        [
         "19",
         "6.8"
        ],
        [
         "20",
         "7.5"
        ],
        [
         "21",
         "7.0"
        ],
        [
         "22",
         "6.7"
        ],
        [
         "23",
         "7.9"
        ],
        [
         "24",
         "6.1"
        ],
        [
         "25",
         "7.2"
        ],
        [
         "26",
         "7.7"
        ],
        [
         "27",
         "8.2"
        ],
        [
         "28",
         "5.9"
        ],
        [
         "29",
         "7.0"
        ],
        [
         "30",
         "7.8"
        ],
        [
         "31",
         "7.3"
        ],
        [
         "32",
         "7.2"
        ],
        [
         "33",
         "6.5"
        ],
        [
         "34",
         "6.8"
        ],
        [
         "35",
         "7.3"
        ],
        [
         "36",
         "6.0"
        ],
        [
         "37",
         "5.7"
        ],
        [
         "38",
         "6.4"
        ],
        [
         "39",
         "6.7"
        ],
        [
         "40",
         "6.8"
        ],
        [
         "41",
         "6.3"
        ],
        [
         "42",
         "5.6"
        ],
        [
         "43",
         "8.3"
        ],
        [
         "44",
         "6.6"
        ],
        [
         "45",
         "7.2"
        ],
        [
         "46",
         "7.0"
        ],
        [
         "47",
         "8.0"
        ],
        [
         "48",
         "7.8"
        ],
        [
         "49",
         "6.3"
        ]
       ],
       "shape": {
        "columns": 1,
        "rows": 4916
       }
      },
      "text/plain": [
       "0       7.9\n",
       "1       7.1\n",
       "2       6.8\n",
       "3       8.5\n",
       "4       7.1\n",
       "       ... \n",
       "4911    7.7\n",
       "4912    7.5\n",
       "4913    6.3\n",
       "4914    6.3\n",
       "4915    6.6\n",
       "Name: imdb_score, Length: 4916, dtype: float64"
      ]
     },
     "execution_count": 75,
     "metadata": {},
     "output_type": "execute_result"
    }
   ],
   "source": [
    "imbd_score = movie['imdb_score']\n",
    "imbd_score"
   ]
  },
  {
   "cell_type": "code",
   "execution_count": null,
   "id": "f874de77",
   "metadata": {},
   "outputs": [
    {
     "data": {
      "application/vnd.microsoft.datawrangler.viewer.v0+json": {
       "columns": [
        {
         "name": "index",
         "rawType": "int64",
         "type": "integer"
        },
        {
         "name": "imdb_score",
         "rawType": "float64",
         "type": "float"
        }
       ],
       "ref": "0db2a327-0cb3-493a-9675-d47f5fcccd8e",
       "rows": [
        [
         "0",
         "8.9"
        ],
        [
         "1",
         "8.1"
        ],
        [
         "2",
         "7.8"
        ],
        [
         "3",
         "9.5"
        ],
        [
         "4",
         "8.1"
        ],
        [
         "5",
         "7.6"
        ],
        [
         "6",
         "7.2"
        ],
        [
         "7",
         "8.8"
        ],
        [
         "8",
         "8.5"
        ],
        [
         "9",
         "8.5"
        ],
        [
         "10",
         "7.9"
        ],
        [
         "11",
         "7.1"
        ],
        [
         "12",
         "7.7"
        ],
        [
         "13",
         "8.3"
        ],
        [
         "14",
         "7.5"
        ],
        [
         "15",
         "8.2"
        ],
        [
         "16",
         "7.6"
        ],
        [
         "17",
         "9.1"
        ],
        [
         "18",
         "7.7"
        ],
        [
         "19",
         "7.8"
        ],
        [
         "20",
         "8.5"
        ],
        [
         "21",
         "8.0"
        ],
        [
         "22",
         "7.7"
        ],
        [
         "23",
         "8.9"
        ],
        [
         "24",
         "7.1"
        ],
        [
         "25",
         "8.2"
        ],
        [
         "26",
         "8.7"
        ],
        [
         "27",
         "9.2"
        ],
        [
         "28",
         "6.9"
        ],
        [
         "29",
         "8.0"
        ],
        [
         "30",
         "8.8"
        ],
        [
         "31",
         "8.3"
        ],
        [
         "32",
         "8.2"
        ],
        [
         "33",
         "7.5"
        ],
        [
         "34",
         "7.8"
        ],
        [
         "35",
         "8.3"
        ],
        [
         "36",
         "7.0"
        ],
        [
         "37",
         "6.7"
        ],
        [
         "38",
         "7.4"
        ],
        [
         "39",
         "7.7"
        ],
        [
         "40",
         "7.8"
        ],
        [
         "41",
         "7.3"
        ],
        [
         "42",
         "6.6"
        ],
        [
         "43",
         "9.3"
        ],
        [
         "44",
         "7.6"
        ],
        [
         "45",
         "8.2"
        ],
        [
         "46",
         "8.0"
        ],
        [
         "47",
         "9.0"
        ],
        [
         "48",
         "8.8"
        ],
        [
         "49",
         "7.3"
        ]
       ],
       "shape": {
        "columns": 1,
        "rows": 4916
       }
      },
      "text/plain": [
       "0       8.9\n",
       "1       8.1\n",
       "2       7.8\n",
       "3       9.5\n",
       "4       8.1\n",
       "       ... \n",
       "4911    8.7\n",
       "4912    8.5\n",
       "4913    7.3\n",
       "4914    7.3\n",
       "4915    7.6\n",
       "Name: imdb_score, Length: 4916, dtype: float64"
      ]
     },
     "execution_count": 76,
     "metadata": {},
     "output_type": "execute_result"
    }
   ],
   "source": [
    "imbd_score + 1"
   ]
  },
  {
   "cell_type": "code",
   "execution_count": null,
   "id": "d4ec6cf0",
   "metadata": {},
   "outputs": [
    {
     "data": {
      "application/vnd.microsoft.datawrangler.viewer.v0+json": {
       "columns": [
        {
         "name": "index",
         "rawType": "int64",
         "type": "integer"
        },
        {
         "name": "imdb_score",
         "rawType": "float64",
         "type": "float"
        }
       ],
       "ref": "3049e8c2-4282-4357-b252-c85d2d017a07",
       "rows": [
        [
         "0",
         "19.75"
        ],
        [
         "1",
         "17.75"
        ],
        [
         "2",
         "17.0"
        ],
        [
         "3",
         "21.25"
        ],
        [
         "4",
         "17.75"
        ],
        [
         "5",
         "16.5"
        ],
        [
         "6",
         "15.5"
        ],
        [
         "7",
         "19.5"
        ],
        [
         "8",
         "18.75"
        ],
        [
         "9",
         "18.75"
        ],
        [
         "10",
         "17.25"
        ],
        [
         "11",
         "15.25"
        ],
        [
         "12",
         "16.75"
        ],
        [
         "13",
         "18.25"
        ],
        [
         "14",
         "16.25"
        ],
        [
         "15",
         "18.0"
        ],
        [
         "16",
         "16.5"
        ],
        [
         "17",
         "20.25"
        ],
        [
         "18",
         "16.75"
        ],
        [
         "19",
         "17.0"
        ],
        [
         "20",
         "18.75"
        ],
        [
         "21",
         "17.5"
        ],
        [
         "22",
         "16.75"
        ],
        [
         "23",
         "19.75"
        ],
        [
         "24",
         "15.25"
        ],
        [
         "25",
         "18.0"
        ],
        [
         "26",
         "19.25"
        ],
        [
         "27",
         "20.5"
        ],
        [
         "28",
         "14.75"
        ],
        [
         "29",
         "17.5"
        ],
        [
         "30",
         "19.5"
        ],
        [
         "31",
         "18.25"
        ],
        [
         "32",
         "18.0"
        ],
        [
         "33",
         "16.25"
        ],
        [
         "34",
         "17.0"
        ],
        [
         "35",
         "18.25"
        ],
        [
         "36",
         "15.0"
        ],
        [
         "37",
         "14.25"
        ],
        [
         "38",
         "16.0"
        ],
        [
         "39",
         "16.75"
        ],
        [
         "40",
         "17.0"
        ],
        [
         "41",
         "15.75"
        ],
        [
         "42",
         "14.0"
        ],
        [
         "43",
         "20.75"
        ],
        [
         "44",
         "16.5"
        ],
        [
         "45",
         "18.0"
        ],
        [
         "46",
         "17.5"
        ],
        [
         "47",
         "20.0"
        ],
        [
         "48",
         "19.5"
        ],
        [
         "49",
         "15.75"
        ]
       ],
       "shape": {
        "columns": 1,
        "rows": 4916
       }
      },
      "text/plain": [
       "0       19.75\n",
       "1       17.75\n",
       "2       17.00\n",
       "3       21.25\n",
       "4       17.75\n",
       "        ...  \n",
       "4911    19.25\n",
       "4912    18.75\n",
       "4913    15.75\n",
       "4914    15.75\n",
       "4915    16.50\n",
       "Name: imdb_score, Length: 4916, dtype: float64"
      ]
     },
     "execution_count": 77,
     "metadata": {},
     "output_type": "execute_result"
    }
   ],
   "source": [
    "imbd_score * 2.5"
   ]
  },
  {
   "cell_type": "code",
   "execution_count": null,
   "id": "f353c3ad",
   "metadata": {},
   "outputs": [
    {
     "data": {
      "application/vnd.microsoft.datawrangler.viewer.v0+json": {
       "columns": [
        {
         "name": "index",
         "rawType": "int64",
         "type": "integer"
        },
        {
         "name": "imdb_score",
         "rawType": "float64",
         "type": "float"
        }
       ],
       "ref": "5442662a-93d9-45a7-9297-91239d65f4af",
       "rows": [
        [
         "0",
         "1.0"
        ],
        [
         "1",
         "1.0"
        ],
        [
         "2",
         "0.0"
        ],
        [
         "3",
         "1.0"
        ],
        [
         "4",
         "1.0"
        ],
        [
         "5",
         "0.0"
        ],
        [
         "6",
         "0.0"
        ],
        [
         "7",
         "1.0"
        ],
        [
         "8",
         "1.0"
        ],
        [
         "9",
         "1.0"
        ],
        [
         "10",
         "0.0"
        ],
        [
         "11",
         "0.0"
        ],
        [
         "12",
         "0.0"
        ],
        [
         "13",
         "1.0"
        ],
        [
         "14",
         "0.0"
        ],
        [
         "15",
         "1.0"
        ],
        [
         "16",
         "0.0"
        ],
        [
         "17",
         "1.0"
        ],
        [
         "18",
         "0.0"
        ],
        [
         "19",
         "0.0"
        ],
        [
         "20",
         "1.0"
        ],
        [
         "21",
         "1.0"
        ],
        [
         "22",
         "0.0"
        ],
        [
         "23",
         "1.0"
        ],
        [
         "24",
         "0.0"
        ],
        [
         "25",
         "1.0"
        ],
        [
         "26",
         "1.0"
        ],
        [
         "27",
         "1.0"
        ],
        [
         "28",
         "0.0"
        ],
        [
         "29",
         "1.0"
        ],
        [
         "30",
         "1.0"
        ],
        [
         "31",
         "1.0"
        ],
        [
         "32",
         "1.0"
        ],
        [
         "33",
         "0.0"
        ],
        [
         "34",
         "0.0"
        ],
        [
         "35",
         "1.0"
        ],
        [
         "36",
         "0.0"
        ],
        [
         "37",
         "0.0"
        ],
        [
         "38",
         "0.0"
        ],
        [
         "39",
         "0.0"
        ],
        [
         "40",
         "0.0"
        ],
        [
         "41",
         "0.0"
        ],
        [
         "42",
         "0.0"
        ],
        [
         "43",
         "1.0"
        ],
        [
         "44",
         "0.0"
        ],
        [
         "45",
         "1.0"
        ],
        [
         "46",
         "1.0"
        ],
        [
         "47",
         "1.0"
        ],
        [
         "48",
         "1.0"
        ],
        [
         "49",
         "0.0"
        ]
       ],
       "shape": {
        "columns": 1,
        "rows": 4916
       }
      },
      "text/plain": [
       "0       1.0\n",
       "1       1.0\n",
       "2       0.0\n",
       "3       1.0\n",
       "4       1.0\n",
       "       ... \n",
       "4911    1.0\n",
       "4912    1.0\n",
       "4913    0.0\n",
       "4914    0.0\n",
       "4915    0.0\n",
       "Name: imdb_score, Length: 4916, dtype: float64"
      ]
     },
     "execution_count": 78,
     "metadata": {},
     "output_type": "execute_result"
    }
   ],
   "source": [
    "imbd_score // 7"
   ]
  },
  {
   "cell_type": "code",
   "execution_count": null,
   "id": "eeaba807",
   "metadata": {},
   "outputs": [
    {
     "data": {
      "application/vnd.microsoft.datawrangler.viewer.v0+json": {
       "columns": [
        {
         "name": "index",
         "rawType": "int64",
         "type": "integer"
        },
        {
         "name": "imdb_score",
         "rawType": "bool",
         "type": "boolean"
        }
       ],
       "ref": "cb99508d-a781-49e2-ba79-2847e65e910a",
       "rows": [
        [
         "0",
         "True"
        ],
        [
         "1",
         "True"
        ],
        [
         "2",
         "False"
        ],
        [
         "3",
         "True"
        ],
        [
         "4",
         "True"
        ],
        [
         "5",
         "False"
        ],
        [
         "6",
         "False"
        ],
        [
         "7",
         "True"
        ],
        [
         "8",
         "True"
        ],
        [
         "9",
         "True"
        ],
        [
         "10",
         "False"
        ],
        [
         "11",
         "False"
        ],
        [
         "12",
         "False"
        ],
        [
         "13",
         "True"
        ],
        [
         "14",
         "False"
        ],
        [
         "15",
         "True"
        ],
        [
         "16",
         "False"
        ],
        [
         "17",
         "True"
        ],
        [
         "18",
         "False"
        ],
        [
         "19",
         "False"
        ],
        [
         "20",
         "True"
        ],
        [
         "21",
         "False"
        ],
        [
         "22",
         "False"
        ],
        [
         "23",
         "True"
        ],
        [
         "24",
         "False"
        ],
        [
         "25",
         "True"
        ],
        [
         "26",
         "True"
        ],
        [
         "27",
         "True"
        ],
        [
         "28",
         "False"
        ],
        [
         "29",
         "False"
        ],
        [
         "30",
         "True"
        ],
        [
         "31",
         "True"
        ],
        [
         "32",
         "True"
        ],
        [
         "33",
         "False"
        ],
        [
         "34",
         "False"
        ],
        [
         "35",
         "True"
        ],
        [
         "36",
         "False"
        ],
        [
         "37",
         "False"
        ],
        [
         "38",
         "False"
        ],
        [
         "39",
         "False"
        ],
        [
         "40",
         "False"
        ],
        [
         "41",
         "False"
        ],
        [
         "42",
         "False"
        ],
        [
         "43",
         "True"
        ],
        [
         "44",
         "False"
        ],
        [
         "45",
         "True"
        ],
        [
         "46",
         "False"
        ],
        [
         "47",
         "True"
        ],
        [
         "48",
         "True"
        ],
        [
         "49",
         "False"
        ]
       ],
       "shape": {
        "columns": 1,
        "rows": 4916
       }
      },
      "text/plain": [
       "0        True\n",
       "1        True\n",
       "2       False\n",
       "3        True\n",
       "4        True\n",
       "        ...  \n",
       "4911     True\n",
       "4912     True\n",
       "4913    False\n",
       "4914    False\n",
       "4915    False\n",
       "Name: imdb_score, Length: 4916, dtype: bool"
      ]
     },
     "execution_count": 79,
     "metadata": {},
     "output_type": "execute_result"
    }
   ],
   "source": [
    "imbd_score > 7"
   ]
  },
  {
   "cell_type": "code",
   "execution_count": null,
   "id": "721987cb",
   "metadata": {},
   "outputs": [
    {
     "data": {
      "application/vnd.microsoft.datawrangler.viewer.v0+json": {
       "columns": [
        {
         "name": "index",
         "rawType": "int64",
         "type": "integer"
        },
        {
         "name": "director_name",
         "rawType": "bool",
         "type": "boolean"
        }
       ],
       "ref": "5d310fa1-be15-45bc-94d1-eac1d2f5a1f4",
       "rows": [
        [
         "0",
         "True"
        ],
        [
         "1",
         "False"
        ],
        [
         "2",
         "False"
        ],
        [
         "3",
         "False"
        ],
        [
         "4",
         "False"
        ],
        [
         "5",
         "False"
        ],
        [
         "6",
         "False"
        ],
        [
         "7",
         "False"
        ],
        [
         "8",
         "False"
        ],
        [
         "9",
         "False"
        ],
        [
         "10",
         "False"
        ],
        [
         "11",
         "False"
        ],
        [
         "12",
         "False"
        ],
        [
         "13",
         "False"
        ],
        [
         "14",
         "False"
        ],
        [
         "15",
         "False"
        ],
        [
         "16",
         "False"
        ],
        [
         "17",
         "False"
        ],
        [
         "18",
         "False"
        ],
        [
         "19",
         "False"
        ],
        [
         "20",
         "False"
        ],
        [
         "21",
         "False"
        ],
        [
         "22",
         "False"
        ],
        [
         "23",
         "False"
        ],
        [
         "24",
         "False"
        ],
        [
         "25",
         "False"
        ],
        [
         "26",
         "True"
        ],
        [
         "27",
         "False"
        ],
        [
         "28",
         "False"
        ],
        [
         "29",
         "False"
        ],
        [
         "30",
         "False"
        ],
        [
         "31",
         "False"
        ],
        [
         "32",
         "False"
        ],
        [
         "33",
         "False"
        ],
        [
         "34",
         "False"
        ],
        [
         "35",
         "False"
        ],
        [
         "36",
         "False"
        ],
        [
         "37",
         "False"
        ],
        [
         "38",
         "False"
        ],
        [
         "39",
         "False"
        ],
        [
         "40",
         "False"
        ],
        [
         "41",
         "False"
        ],
        [
         "42",
         "False"
        ],
        [
         "43",
         "False"
        ],
        [
         "44",
         "False"
        ],
        [
         "45",
         "False"
        ],
        [
         "46",
         "False"
        ],
        [
         "47",
         "False"
        ],
        [
         "48",
         "False"
        ],
        [
         "49",
         "False"
        ]
       ],
       "shape": {
        "columns": 1,
        "rows": 4916
       }
      },
      "text/plain": [
       "0        True\n",
       "1       False\n",
       "2       False\n",
       "3       False\n",
       "4       False\n",
       "        ...  \n",
       "4911    False\n",
       "4912    False\n",
       "4913    False\n",
       "4914    False\n",
       "4915    False\n",
       "Name: director_name, Length: 4916, dtype: bool"
      ]
     },
     "execution_count": 80,
     "metadata": {},
     "output_type": "execute_result"
    }
   ],
   "source": [
    "director = movie['director_name']\n",
    "director == 'James Cameron'"
   ]
  },
  {
   "cell_type": "code",
   "execution_count": null,
   "id": "875a33e0",
   "metadata": {},
   "outputs": [
    {
     "data": {
      "application/vnd.microsoft.datawrangler.viewer.v0+json": {
       "columns": [
        {
         "name": "index",
         "rawType": "int64",
         "type": "integer"
        },
        {
         "name": "imdb_score",
         "rawType": "bool",
         "type": "boolean"
        }
       ],
       "ref": "0dc4697f-e13e-4e47-997e-6debecca3f85",
       "rows": [
        [
         "0",
         "False"
        ],
        [
         "1",
         "False"
        ],
        [
         "2",
         "False"
        ],
        [
         "3",
         "False"
        ],
        [
         "4",
         "False"
        ],
        [
         "5",
         "False"
        ],
        [
         "6",
         "False"
        ],
        [
         "7",
         "False"
        ],
        [
         "8",
         "False"
        ],
        [
         "9",
         "False"
        ],
        [
         "10",
         "False"
        ],
        [
         "11",
         "False"
        ],
        [
         "12",
         "False"
        ],
        [
         "13",
         "False"
        ],
        [
         "14",
         "False"
        ],
        [
         "15",
         "False"
        ],
        [
         "16",
         "False"
        ],
        [
         "17",
         "False"
        ],
        [
         "18",
         "False"
        ],
        [
         "19",
         "False"
        ],
        [
         "20",
         "False"
        ],
        [
         "21",
         "False"
        ],
        [
         "22",
         "False"
        ],
        [
         "23",
         "False"
        ],
        [
         "24",
         "False"
        ],
        [
         "25",
         "False"
        ],
        [
         "26",
         "False"
        ],
        [
         "27",
         "False"
        ],
        [
         "28",
         "False"
        ],
        [
         "29",
         "False"
        ],
        [
         "30",
         "False"
        ],
        [
         "31",
         "False"
        ],
        [
         "32",
         "False"
        ],
        [
         "33",
         "False"
        ],
        [
         "34",
         "False"
        ],
        [
         "35",
         "False"
        ],
        [
         "36",
         "False"
        ],
        [
         "37",
         "False"
        ],
        [
         "38",
         "False"
        ],
        [
         "39",
         "False"
        ],
        [
         "40",
         "False"
        ],
        [
         "41",
         "False"
        ],
        [
         "42",
         "False"
        ],
        [
         "43",
         "False"
        ],
        [
         "44",
         "False"
        ],
        [
         "45",
         "False"
        ],
        [
         "46",
         "False"
        ],
        [
         "47",
         "False"
        ],
        [
         "48",
         "False"
        ],
        [
         "49",
         "False"
        ]
       ],
       "shape": {
        "columns": 1,
        "rows": 4916
       }
      },
      "text/plain": [
       "0       False\n",
       "1       False\n",
       "2       False\n",
       "3       False\n",
       "4       False\n",
       "        ...  \n",
       "4911    False\n",
       "4912    False\n",
       "4913    False\n",
       "4914    False\n",
       "4915    False\n",
       "Name: imdb_score, Length: 4916, dtype: bool"
      ]
     },
     "execution_count": 81,
     "metadata": {},
     "output_type": "execute_result"
    }
   ],
   "source": [
    "imbd_score.add(1)\n",
    "imbd_score.mul(2.5)\n",
    "imbd_score.floordiv(7)\n",
    "imbd_score.gt(7)\n",
    "imbd_score.eq('James Cameron')"
   ]
  },
  {
   "cell_type": "markdown",
   "id": "a7aa910d",
   "metadata": {},
   "source": [
    "# To find grass_revenue_of country"
   ]
  },
  {
   "cell_type": "code",
   "execution_count": 44,
   "id": "97165774",
   "metadata": {},
   "outputs": [
    {
     "data": {
      "application/vnd.microsoft.datawrangler.viewer.v0+json": {
       "columns": [
        {
         "name": "index",
         "rawType": "int64",
         "type": "integer"
        },
        {
         "name": "country",
         "rawType": "object",
         "type": "string"
        },
        {
         "name": "title_year",
         "rawType": "float64",
         "type": "float"
        },
        {
         "name": "gross",
         "rawType": "float64",
         "type": "float"
        }
       ],
       "ref": "0006fafd-481f-4d94-b8e4-b7a3419ff41f",
       "rows": [
        [
         "0",
         "Afghanistan",
         "2003.0",
         "1127331.0"
        ],
        [
         "1",
         "Argentina",
         "2000.0",
         "1221261.0"
        ],
        [
         "2",
         "Argentina",
         "2004.0",
         "304124.0"
        ],
        [
         "3",
         "Argentina",
         "2009.0",
         "20167424.0"
        ],
        [
         "4",
         "Aruba",
         "1998.0",
         "10076136.0"
        ],
        [
         "5",
         "Australia",
         "1979.0",
         "0.0"
        ],
        [
         "6",
         "Australia",
         "1981.0",
         "9003011.0"
        ],
        [
         "7",
         "Australia",
         "1982.0",
         "0.0"
        ],
        [
         "8",
         "Australia",
         "1985.0",
         "36200000.0"
        ],
        [
         "9",
         "Australia",
         "1986.0",
         "174635000.0"
        ],
        [
         "10",
         "Australia",
         "1988.0",
         "109306210.0"
        ],
        [
         "11",
         "Australia",
         "1989.0",
         "882290.0"
        ],
        [
         "12",
         "Australia",
         "1990.0",
         "21413105.0"
        ],
        [
         "13",
         "Australia",
         "1992.0",
         "6739141.0"
        ],
        [
         "14",
         "Australia",
         "1995.0",
         "66600000.0"
        ],
        [
         "15",
         "Australia",
         "1996.0",
         "53324683.0"
        ],
        [
         "16",
         "Australia",
         "1997.0",
         "141853.0"
        ],
        [
         "17",
         "Australia",
         "1998.0",
         "50066910.0"
        ],
        [
         "18",
         "Australia",
         "1999.0",
         "10544143.0"
        ],
        [
         "19",
         "Australia",
         "2000.0",
         "265107.0"
        ],
        [
         "20",
         "Australia",
         "2001.0",
         "25590119.0"
        ],
        [
         "21",
         "Australia",
         "2002.0",
         "34564621.0"
        ],
        [
         "22",
         "Australia",
         "2003.0",
         "144482509.0"
        ],
        [
         "23",
         "Australia",
         "2005.0",
         "33949534.0"
        ],
        [
         "24",
         "Australia",
         "2006.0",
         "413630.0"
        ],
        [
         "25",
         "Australia",
         "2008.0",
         "50579411.0"
        ],
        [
         "26",
         "Australia",
         "2009.0",
         "34892758.0"
        ],
        [
         "27",
         "Australia",
         "2010.0",
         "0.0"
        ],
        [
         "28",
         "Australia",
         "2011.0",
         "63992328.0"
        ],
        [
         "29",
         "Australia",
         "2012.0",
         "0.0"
        ],
        [
         "30",
         "Australia",
         "2013.0",
         "149565004.0"
        ],
        [
         "31",
         "Australia",
         "2014.0",
         "281005745.0"
        ],
        [
         "32",
         "Australia",
         "2015.0",
         "153629485.0"
        ],
        [
         "33",
         "Bahamas",
         "2014.0",
         "0.0"
        ],
        [
         "34",
         "Belgium",
         "2011.0",
         "1357042.0"
        ],
        [
         "35",
         "Belgium",
         "2013.0",
         "4091.0"
        ],
        [
         "36",
         "Belgium",
         "2015.0",
         "0.0"
        ],
        [
         "37",
         "Brazil",
         "1983.0",
         "0.0"
        ],
        [
         "38",
         "Brazil",
         "1998.0",
         "5595428.0"
        ],
        [
         "39",
         "Brazil",
         "2002.0",
         "7563397.0"
        ],
        [
         "40",
         "Brazil",
         "2005.0",
         "0.0"
        ],
        [
         "41",
         "Brazil",
         "2007.0",
         "8060.0"
        ],
        [
         "42",
         "Brazil",
         "2013.0",
         "0.0"
        ],
        [
         "43",
         "Brazil",
         "2014.0",
         "20262.0"
        ],
        [
         "44",
         "Brazil",
         "2015.0",
         "375723.0"
        ],
        [
         "45",
         "Bulgaria",
         "2014.0",
         "0.0"
        ],
        [
         "46",
         "Cambodia",
         "2014.0",
         "0.0"
        ],
        [
         "47",
         "Cameroon",
         "2005.0",
         "32631.0"
        ],
        [
         "48",
         "Canada",
         "1980.0",
         "0.0"
        ],
        [
         "49",
         "Canada",
         "1981.0",
         "105500000.0"
        ]
       ],
       "shape": {
        "columns": 3,
        "rows": 494
       }
      },
      "text/html": [
       "<div>\n",
       "<style scoped>\n",
       "    .dataframe tbody tr th:only-of-type {\n",
       "        vertical-align: middle;\n",
       "    }\n",
       "\n",
       "    .dataframe tbody tr th {\n",
       "        vertical-align: top;\n",
       "    }\n",
       "\n",
       "    .dataframe thead th {\n",
       "        text-align: right;\n",
       "    }\n",
       "</style>\n",
       "<table border=\"1\" class=\"dataframe\">\n",
       "  <thead>\n",
       "    <tr style=\"text-align: right;\">\n",
       "      <th></th>\n",
       "      <th>country</th>\n",
       "      <th>title_year</th>\n",
       "      <th>gross</th>\n",
       "    </tr>\n",
       "  </thead>\n",
       "  <tbody>\n",
       "    <tr>\n",
       "      <th>0</th>\n",
       "      <td>Afghanistan</td>\n",
       "      <td>2003.0</td>\n",
       "      <td>1.127331e+06</td>\n",
       "    </tr>\n",
       "    <tr>\n",
       "      <th>1</th>\n",
       "      <td>Argentina</td>\n",
       "      <td>2000.0</td>\n",
       "      <td>1.221261e+06</td>\n",
       "    </tr>\n",
       "    <tr>\n",
       "      <th>2</th>\n",
       "      <td>Argentina</td>\n",
       "      <td>2004.0</td>\n",
       "      <td>3.041240e+05</td>\n",
       "    </tr>\n",
       "    <tr>\n",
       "      <th>3</th>\n",
       "      <td>Argentina</td>\n",
       "      <td>2009.0</td>\n",
       "      <td>2.016742e+07</td>\n",
       "    </tr>\n",
       "    <tr>\n",
       "      <th>4</th>\n",
       "      <td>Aruba</td>\n",
       "      <td>1998.0</td>\n",
       "      <td>1.007614e+07</td>\n",
       "    </tr>\n",
       "    <tr>\n",
       "      <th>...</th>\n",
       "      <td>...</td>\n",
       "      <td>...</td>\n",
       "      <td>...</td>\n",
       "    </tr>\n",
       "    <tr>\n",
       "      <th>489</th>\n",
       "      <td>USA</td>\n",
       "      <td>2016.0</td>\n",
       "      <td>3.865196e+09</td>\n",
       "    </tr>\n",
       "    <tr>\n",
       "      <th>490</th>\n",
       "      <td>United Arab Emirates</td>\n",
       "      <td>2013.0</td>\n",
       "      <td>0.000000e+00</td>\n",
       "    </tr>\n",
       "    <tr>\n",
       "      <th>491</th>\n",
       "      <td>West Germany</td>\n",
       "      <td>1967.0</td>\n",
       "      <td>0.000000e+00</td>\n",
       "    </tr>\n",
       "    <tr>\n",
       "      <th>492</th>\n",
       "      <td>West Germany</td>\n",
       "      <td>1981.0</td>\n",
       "      <td>1.143313e+07</td>\n",
       "    </tr>\n",
       "    <tr>\n",
       "      <th>493</th>\n",
       "      <td>West Germany</td>\n",
       "      <td>1984.0</td>\n",
       "      <td>0.000000e+00</td>\n",
       "    </tr>\n",
       "  </tbody>\n",
       "</table>\n",
       "<p>494 rows × 3 columns</p>\n",
       "</div>"
      ],
      "text/plain": [
       "                  country  title_year         gross\n",
       "0             Afghanistan      2003.0  1.127331e+06\n",
       "1               Argentina      2000.0  1.221261e+06\n",
       "2               Argentina      2004.0  3.041240e+05\n",
       "3               Argentina      2009.0  2.016742e+07\n",
       "4                   Aruba      1998.0  1.007614e+07\n",
       "..                    ...         ...           ...\n",
       "489                   USA      2016.0  3.865196e+09\n",
       "490  United Arab Emirates      2013.0  0.000000e+00\n",
       "491          West Germany      1967.0  0.000000e+00\n",
       "492          West Germany      1981.0  1.143313e+07\n",
       "493          West Germany      1984.0  0.000000e+00\n",
       "\n",
       "[494 rows x 3 columns]"
      ]
     },
     "execution_count": 44,
     "metadata": {},
     "output_type": "execute_result"
    }
   ],
   "source": [
    "country_year_gross = (movie.groupby([\"country\", \"title_year\"])[\"gross\"].sum().reset_index())\n",
    "country_year_gross"
   ]
  },
  {
   "cell_type": "code",
   "execution_count": null,
   "id": "88dc1191",
   "metadata": {},
   "outputs": [
    {
     "name": "stdout",
     "output_type": "stream",
     "text": [
      "                  country  title_year         gross\n",
      "0             Afghanistan      2003.0  1.127331e+06\n",
      "3               Argentina      2009.0  2.016742e+07\n",
      "4                   Aruba      1998.0  1.007614e+07\n",
      "31              Australia      2014.0  2.810057e+08\n",
      "33                Bahamas      2014.0  0.000000e+00\n",
      "..                    ...         ...           ...\n",
      "347                Turkey      2006.0  0.000000e+00\n",
      "385                    UK      2002.0  7.497431e+08\n",
      "486                   USA      2013.0  9.237369e+09\n",
      "490  United Arab Emirates      2013.0  0.000000e+00\n",
      "492          West Germany      1981.0  1.143313e+07\n",
      "\n",
      "[65 rows x 3 columns]\n"
     ]
    }
   ],
   "source": [
    "max_gross_per_country = country_year_gross.loc[country_year_gross.groupby(\"country\")[\"gross\"].idxmax()]\n",
    "print(max_gross_per_country)"
   ]
  },
  {
   "cell_type": "markdown",
   "id": "a69d268e",
   "metadata": {},
   "source": [
    "#  Movies with the highest IMDb score"
   ]
  },
  {
   "cell_type": "code",
   "execution_count": null,
   "id": "a5d5f47c",
   "metadata": {},
   "outputs": [
    {
     "name": "stdout",
     "output_type": "stream",
     "text": [
      "           movie_title  imdb_score\n",
      "2725  Towering Inferno         9.5\n"
     ]
    }
   ],
   "source": [
    "max_score = movie[\"imdb_score\"].max()\n",
    "highest_rated = movie[movie[\"imdb_score\"] == max_score][[\"movie_title\", \"imdb_score\"]]\n",
    "\n",
    "print(highest_rated)\n"
   ]
  },
  {
   "cell_type": "markdown",
   "id": "a41be127",
   "metadata": {},
   "source": [
    "# Top 10 highest-grossing movies"
   ]
  },
  {
   "cell_type": "code",
   "execution_count": null,
   "id": "325b1da0",
   "metadata": {},
   "outputs": [
    {
     "name": "stdout",
     "output_type": "stream",
     "text": [
      "                                    movie_title        gross\n",
      "0                                        Avatar  760505847.0\n",
      "26                                      Titanic  658672302.0\n",
      "29                               Jurassic World  652177271.0\n",
      "17                                 The Avengers  623279547.0\n",
      "66                              The Dark Knight  533316061.0\n",
      "237   Star Wars: Episode I - The Phantom Menace  474544677.0\n",
      "2973         Star Wars: Episode IV - A New Hope  460935665.0\n",
      "8                       Avengers: Age of Ultron  458991599.0\n",
      "3                         The Dark Knight Rises  448130642.0\n",
      "576                                     Shrek 2  436471036.0\n"
     ]
    }
   ],
   "source": [
    "top10_gross = movie.sort_values(\"gross\", ascending=False).head(10)[[\"movie_title\", \"gross\"]]\n",
    "print(top10_gross)\n"
   ]
  },
  {
   "cell_type": "markdown",
   "id": "c9ed1408",
   "metadata": {},
   "source": [
    "# Movie with largest budget vs. gross profit"
   ]
  },
  {
   "cell_type": "code",
   "execution_count": null,
   "id": "e56314a6",
   "metadata": {},
   "outputs": [
    {
     "name": "stdout",
     "output_type": "stream",
     "text": [
      "movie_title         Avatar\n",
      "budget         237000000.0\n",
      "gross          760505847.0\n",
      "profit         523505847.0\n",
      "Name: 0, dtype: object\n"
     ]
    }
   ],
   "source": [
    "movie[\"profit\"] = movie[\"gross\"] - movie[\"budget\"]\n",
    "\n",
    "max_profit = movie.loc[movie[\"profit\"].idxmax(), [\"movie_title\", \"budget\", \"gross\", \"profit\"]]\n",
    "print(max_profit)\n"
   ]
  },
  {
   "cell_type": "markdown",
   "id": "fb02ce1f",
   "metadata": {},
   "source": [
    "# Number of movies released each year"
   ]
  },
  {
   "cell_type": "code",
   "execution_count": null,
   "id": "354d73eb",
   "metadata": {},
   "outputs": [
    {
     "name": "stdout",
     "output_type": "stream",
     "text": [
      "title_year\n",
      "1916.0      1\n",
      "1920.0      1\n",
      "1925.0      1\n",
      "1927.0      1\n",
      "1929.0      2\n",
      "         ... \n",
      "2012.0    214\n",
      "2013.0    231\n",
      "2014.0    243\n",
      "2015.0    211\n",
      "2016.0     98\n",
      "Name: count, Length: 91, dtype: int64\n"
     ]
    }
   ],
   "source": [
    "movies_per_year = movie[\"title_year\"].value_counts().sort_index()\n",
    "print(movies_per_year)\n"
   ]
  },
  {
   "cell_type": "markdown",
   "id": "b88fc3db",
   "metadata": {},
   "source": [
    "# Gross Revenue by Country"
   ]
  },
  {
   "cell_type": "code",
   "execution_count": 45,
   "id": "835d617a",
   "metadata": {},
   "outputs": [
    {
     "name": "stderr",
     "output_type": "stream",
     "text": [
      "C:\\Users\\hp\\AppData\\Local\\Temp\\ipykernel_5232\\269476632.py:4: FutureWarning: \n",
      "\n",
      "Passing `palette` without assigning `hue` is deprecated and will be removed in v0.14.0. Assign the `y` variable to `hue` and set `legend=False` for the same effect.\n",
      "\n",
      "  sns.barplot(x=country_revenue.values, y=country_revenue.index, palette=\"coolwarm\")\n"
     ]
    },
    {
     "data": {
      "image/png": "[encoded data removed]",
      "text/plain": [
       "<Figure size 1000x500 with 1 Axes>"
      ]
     },
     "metadata": {},
     "output_type": "display_data"
    }
   ],
   "source": [
    "country_revenue = movie.groupby('country')['gross'].sum().sort_values(ascending=False).head(10)\n",
    "\n",
    "plt.figure(figsize=(10,5))\n",
    "sns.barplot(x=country_revenue.values, y=country_revenue.index, palette=\"coolwarm\")\n",
    "plt.title(\"Top 10 Countries by Gross Revenue\")\n",
    "plt.xlabel(\"Total Gross Revenue\")\n",
    "plt.ylabel(\"Country\")\n",
    "plt.show()\n"
   ]
  },
  {
   "cell_type": "code",
   "execution_count": null,
   "id": "8a71440e",
   "metadata": {},
   "outputs": [],
   "source": []
  }
 ],
 "metadata": {
  "kernelspec": {
   "display_name": "base",
   "language": "python",
   "name": "python3"
  },
  "language_info": {
   "codemirror_mode": {
    "name": "ipython",
    "version": 3
   },
   "file_extension": ".py",
   "mimetype": "text/x-python",
   "name": "python",
   "nbconvert_exporter": "python",
   "pygments_lexer": "ipython3",
   "version": "3.13.5"
  }
 },
 "nbformat": 4,
 "nbformat_minor": 5
}
